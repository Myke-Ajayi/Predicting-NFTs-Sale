{
 "cells": [
  {
   "cell_type": "code",
   "execution_count": 2,
   "metadata": {},
   "outputs": [],
   "source": [
    "import pandas as pd\n",
    "import json\n",
    "import requests"
   ]
  },
  {
   "cell_type": "code",
   "execution_count": 4,
   "metadata": {
    "scrolled": false
   },
   "outputs": [],
   "source": [
    "\n",
    "offset = 0\n",
    "nft_data = {'assets':[]}\n",
    "\n",
    "while True:\n",
    "    \n",
    "    url = \"https://api.opensea.io/api/v1/assets?\"\n",
    "    params = {\n",
    "        'offset' : offset,\n",
    "        'limit': 50\n",
    "    }\n",
    "\n",
    "    headers = {\"X-API-KEY\": KEY}\n",
    "\n",
    "    response = requests.request(\"GET\", url, headers=headers, params=params)\n",
    "    nft_data['assets'].extend(response.json()['assets'])\n",
    "    \n",
    "    offset += 50\n",
    "    \n",
    "    if len(nft_data['assets']) > 10050:\n",
    "        break"
   ]
  },
  {
   "cell_type": "code",
   "execution_count": null,
   "metadata": {},
   "outputs": [],
   "source": [
    "# from pandas.io.json import json_normalize"
   ]
  },
  {
   "cell_type": "code",
   "execution_count": null,
   "metadata": {},
   "outputs": [],
   "source": [
    "df_1 = pd.DataFrame(nft_data_2['assets'])"
   ]
  },
  {
   "cell_type": "code",
   "execution_count": 5,
   "metadata": {},
   "outputs": [],
   "source": [
    "nft_data_3 = {'assets':[]}\n",
    "for offset in range(0,10050,50):\n",
    "    url = \"https://api.opensea.io/api/v1/assets?\"\n",
    "    params = {\n",
    "        'offset' : offset,\n",
    "        'order_direction':'desc',\n",
    "        'limit': 50\n",
    "    }\n",
    "\n",
    "    headers = {\"X-API-KEY\": KEY}\n",
    "\n",
    "    response = requests.request(\"GET\", url, headers=headers, params=params)\n",
    "    nft_data_3['assets'].extend(response.json()['assets'])"
   ]
  },
  {
   "cell_type": "code",
   "execution_count": 6,
   "metadata": {},
   "outputs": [],
   "source": [
    "df_a = json_normalize(nft_data_3['assets'], max_level=4)"
   ]
  },
  {
   "cell_type": "code",
   "execution_count": 7,
   "metadata": {},
   "outputs": [],
   "source": [
    "df_2 = pd.DataFrame(nft_data_3['assets'])"
   ]
  },
  {
   "cell_type": "code",
   "execution_count": 8,
   "metadata": {},
   "outputs": [],
   "source": [
    "df_2.to_csv('nft_asset2_list.csv')"
   ]
  },
  {
   "cell_type": "code",
   "execution_count": null,
   "metadata": {
    "scrolled": true
   },
   "outputs": [],
   "source": [
    "assets_3.to_csv('nft_sale_count.csv')"
   ]
  },
  {
   "cell_type": "code",
   "execution_count": 4,
   "metadata": {},
   "outputs": [],
   "source": [
    "list_of_asset_dfs_3 = []\n",
    "for offset in range(0,10050,50):\n",
    "    url = \"https://api.opensea.io/api/v1/assets\"\n",
    "    querystring = {\"order_by\":\"sale_count\",\n",
    "                   \"order_direction\":\"asc\",\n",
    "                   \"offset\":f\"{offset}\",\n",
    "                   \"limit\":\"50\"}\n",
    "    headers = {\"X-API-KEY\": \"9aded185f80d49e3b8b2ecb096e9b8c1\"}\n",
    "    response = requests.request(\"GET\", url, headers=headers, params=querystring)\n",
    "    json = response.json()\n",
    "    df = json_normalize(json['assets'], max_level=4)\n",
    "    list_of_asset_dfs_3.append(df)\n",
    "#     print(f\"Offset is {offset} and {len(df)} assets added\")\n",
    "assets_4 = pd.concat([df for df in list_of_asset_dfs_3], ignore_index = True, sort=False)"
   ]
  },
  {
   "cell_type": "code",
   "execution_count": 5,
   "metadata": {},
   "outputs": [],
   "source": [
    "assets_4.to_csv('nft_sale_count2.csv')"
   ]
  },
  {
   "cell_type": "code",
   "execution_count": 3,
   "metadata": {},
   "outputs": [],
   "source": [
    "from pandas import json_normalize"
   ]
  },
  {
   "cell_type": "code",
   "execution_count": null,
   "metadata": {},
   "outputs": [],
   "source": [
    "# sorting by sale date"
   ]
  },
  {
   "cell_type": "code",
   "execution_count": 1,
   "metadata": {},
   "outputs": [],
   "source": [
    "list_of_asset_dfs_4 = []\n",
    "for offset in range(0,10050,50):\n",
    "    url = \"https://api.opensea.io/api/v1/assets\"\n",
    "    querystring = {\"order_by\":\"sale_date\",\n",
    "                   \"order_direction\":\"asc\",\n",
    "                   \"offset\":f\"{offset}\",\n",
    "                   \"limit\":\"50\"}\n",
    "    headers = {\"X-API-KEY\": KEY}\n",
    "    re = requests.request(\"GET\", url, headers=headers, params=querystring)\n",
    "    json = re.json()\n",
    "#     j_son = json.loads(re)\n",
    "    df_5 = json_normalize(json['assets'], max_level=4)\n",
    "    list_of_asset_dfs_4.append(df_5)\n",
    "assets_5 = pd.concat([df for df in list_of_asset_dfs_4], ignore_index = True, sort=False)\n",
    "# print(\"\")"
   ]
  },
  {
   "cell_type": "code",
   "execution_count": 3,
   "metadata": {},
   "outputs": [],
   "source": [
    "# list_of_asset_dfs_9 = []\n",
    "# for offset in range(0,10050,50):\n",
    "#     url = \"https://api.opensea.io/api/v1/assets\"\n",
    "#     querystring = {\"order_by\":\"sale_price\",\n",
    "#                    \"order_direction\":\"desc\", \n",
    "#                    \"offset\":f\"{offset}\",\n",
    "#                    \"limit\":\"50\"}\n",
    "#     headers = {\"X-API-KEY\": \"9aded185f80d49e3b8b2ecb096e9b8c1\"}\n",
    "#     response = requests.request(\"GET\", url, headers=headers, params=querystring)\n",
    "#     json = response.json()\n",
    "# #     json.loads(js.decode(\"utf-8\")\n",
    "#     df_4 = json_normalize(json['assets'], max_level=4)\n",
    "#     list_of_asset_dfs_9.append(df_4)\n",
    "# assets_9 = pd.concat([df for df in list_of_asset_dfs_9], ignore_index = True, sort=False)\n",
    "# print(\"\")\n",
    "# print(\"\")\n",
    "\n",
    "# list_of_asset_dfs_10 = []\n",
    "# for offset in range(0,10050,50):\n",
    "#     url = \"https://api.opensea.io/api/v1/assets\"\n",
    "#     querystring = {\"order_by\":\"sale_price\",\n",
    "#                    \"order_direction\":\"asc\",\n",
    "#                    \"offset\":f\"{offset}\",\n",
    "#                    \"limit\":\"50\"}\n",
    "#     headers = {\"X-API-KEY\": \"9aded185f80d49e3b8b2ecb096e9b8c1\"}\n",
    "#     response = requests.request(\"GET\", url, headers=headers, params=querystring)\n",
    "#     json = response.json()\n",
    "#     df_b = json_normalize(json['order_by'], max_level=4)\n",
    "#     list_of_asset_dfs_10.append(df_b)\n",
    "# assets_10 = pd.concat([df for df in list_of_asset_dfs_10], ignore_index = True, sort=False)"
   ]
  },
  {
   "cell_type": "code",
   "execution_count": null,
   "metadata": {},
   "outputs": [],
   "source": []
  },
  {
   "cell_type": "code",
   "execution_count": 25,
   "metadata": {},
   "outputs": [],
   "source": [
    "nft_assets = pd.concat([assets_3, assets_4], ignore_index=True, sort=False)"
   ]
  },
  {
   "cell_type": "code",
   "execution_count": 26,
   "metadata": {},
   "outputs": [
    {
     "data": {
      "text/plain": [
       "<AxesSubplot:>"
      ]
     },
     "execution_count": 26,
     "metadata": {},
     "output_type": "execute_result"
    },
    {
     "data": {
      "image/png": "[encoded data removed]",
      "text/plain": [
       "<Figure size 432x288 with 1 Axes>"
      ]
     },
     "metadata": {
      "needs_background": "light"
     },
     "output_type": "display_data"
    }
   ],
   "source": [
    "assets_3['asset_contract.created_date'].astype(\"datetime64\").dt.year.hist()\n",
    "assets_4['asset_contract.created_date'].astype(\"datetime64\").dt.year.hist()"
   ]
  },
  {
   "cell_type": "code",
   "execution_count": 27,
   "metadata": {},
   "outputs": [
    {
     "data": {
      "text/plain": [
       "<AxesSubplot:>"
      ]
     },
     "execution_count": 27,
     "metadata": {},
     "output_type": "execute_result"
    },
    {
     "data": {
      "image/png": "[encoded data removed]",
      "text/plain": [
       "<Figure size 432x288 with 1 Axes>"
      ]
     },
     "metadata": {
      "needs_background": "light"
     },
     "output_type": "display_data"
    }
   ],
   "source": [
    "nft_assets['asset_contract.created_date'].astype(\"datetime64\").dt.year.hist()"
   ]
  },
  {
   "cell_type": "code",
   "execution_count": 29,
   "metadata": {},
   "outputs": [
    {
     "data": {
      "text/plain": [
       "16775"
      ]
     },
     "execution_count": 29,
     "metadata": {},
     "output_type": "execute_result"
    }
   ],
   "source": [
    "nft_assets['id'].nunique()"
   ]
  },
  {
   "cell_type": "code",
   "execution_count": 30,
   "metadata": {},
   "outputs": [
    {
     "data": {
      "text/plain": [
       "14461"
      ]
     },
     "execution_count": 30,
     "metadata": {},
     "output_type": "execute_result"
    }
   ],
   "source": [
    "nft_assets['token_id'].nunique()"
   ]
  },
  {
   "cell_type": "code",
   "execution_count": 32,
   "metadata": {},
   "outputs": [],
   "source": [
    "df_nft = nft_assets.drop_duplicates(subset=['token_id'])"
   ]
  },
  {
   "cell_type": "code",
   "execution_count": 34,
   "metadata": {},
   "outputs": [],
   "source": [
    "df_nft.to_csv('nftsale.csv')"
   ]
  },
  {
   "cell_type": "code",
   "execution_count": null,
   "metadata": {},
   "outputs": [],
   "source": []
  }
 ],
 "metadata": {
  "kernelspec": {
   "display_name": "Python (learn-env)",
   "language": "python",
   "name": "learn-env"
  },
  "language_info": {
   "codemirror_mode": {
    "name": "ipython",
    "version": 3
   },
   "file_extension": ".py",
   "mimetype": "text/x-python",
   "name": "python",
   "nbconvert_exporter": "python",
   "pygments_lexer": "ipython3",
   "version": "3.8.5"
  }
 },
 "nbformat": 4,
 "nbformat_minor": 4
}
