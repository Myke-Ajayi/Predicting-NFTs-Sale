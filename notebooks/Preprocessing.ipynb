{
 "cells": [
  {
   "cell_type": "code",
   "execution_count": 1,
   "metadata": {},
   "outputs": [],
   "source": [
    "import numpy as np\n",
    "import matplotlib.pyplot as plt \n",
    "import seaborn as sns\n",
    "import pandas as pd\n",
    "\n",
    "\n",
    "from sklearn.impute import SimpleImputer\n",
    "from sklearn.preprocessing import OneHotEncoder\n",
    "\n",
    "from sklearn.linear_model import LogisticRegression\n",
    "\n",
    "from sklearn.model_selection import train_test_split, cross_validate\n",
    "from sklearn.metrics import accuracy_score, precision_score, recall_score, f1_score\n",
    "from sklearn.metrics import roc_auc_score, plot_confusion_matrix, plot_roc_curve"
   ]
  },
  {
   "cell_type": "code",
   "execution_count": null,
   "metadata": {},
   "outputs": [],
   "source": [
    "!ls"
   ]
  },
  {
   "cell_type": "code",
   "execution_count": 2,
   "metadata": {},
   "outputs": [],
   "source": [
    "pd.pandas.set_option('display.max_columns', None)"
   ]
  },
  {
   "cell_type": "code",
   "execution_count": 3,
   "metadata": {},
   "outputs": [],
   "source": [
    "df = pd.read_csv('revised_nft.csv')"
   ]
  },
  {
   "cell_type": "code",
   "execution_count": 4,
   "metadata": {},
   "outputs": [
    {
     "name": "stdout",
     "output_type": "stream",
     "text": [
      "<class 'pandas.core.frame.DataFrame'>\n",
      "RangeIndex: 14461 entries, 0 to 14460\n",
      "Data columns (total 34 columns):\n",
      " #   Column                                          Non-Null Count  Dtype  \n",
      "---  ------                                          --------------  -----  \n",
      " 0   Unnamed: 0                                      14461 non-null  int64  \n",
      " 1   id                                              14461 non-null  int64  \n",
      " 2   token_id                                        14461 non-null  object \n",
      " 3   name                                            13698 non-null  object \n",
      " 4   traits                                          14461 non-null  object \n",
      " 5   description                                     10469 non-null  object \n",
      " 6   is_presale                                      14461 non-null  bool   \n",
      " 7   asset_contract.created_date                     14461 non-null  object \n",
      " 8   asset_contract.name                             14461 non-null  object \n",
      " 9   asset_contract.total_supply                     1328 non-null   float64\n",
      " 10  asset_contract.symbol                           13151 non-null  object \n",
      " 11  asset_contract.schema_name                      14461 non-null  object \n",
      " 12  asset_contract.asset_contract_type              14461 non-null  object \n",
      " 13  asset_contract.nft_version                      4734 non-null   object \n",
      " 14  asset_contract.opensea_version                  7888 non-null   object \n",
      " 15  asset_contract.seller_fee_basis_points          14461 non-null  int64  \n",
      " 16  asset_contract.dev_seller_fee_basis_points      14461 non-null  int64  \n",
      " 17  asset_contract.opensea_seller_fee_basis_points  14461 non-null  int64  \n",
      " 18  collection.created_date                         14461 non-null  object \n",
      " 19  collection.slug                                 14461 non-null  object \n",
      " 20  collection.safelist_request_status              14461 non-null  object \n",
      " 21  collection.featured                             14461 non-null  bool   \n",
      " 22  collection.description                          12598 non-null  object \n",
      " 23  collection.dev_seller_fee_basis_points          14461 non-null  int64  \n",
      " 24  collection.opensea_seller_fee_basis_points      14461 non-null  int64  \n",
      " 25  collection.external_url                         8240 non-null   object \n",
      " 26  collection.image_url                            13417 non-null  object \n",
      " 27  collection.twitter_username                     10905 non-null  object \n",
      " 28  collection.instagram_username                   3220 non-null   object \n",
      " 29  collection.medium_username                      2118 non-null   object \n",
      " 30  collection.chat_url                             1 non-null      object \n",
      " 31  creator.user.username                           12092 non-null  object \n",
      " 32  owner.address                                   14461 non-null  object \n",
      " 33  target                                          14461 non-null  int64  \n",
      "dtypes: bool(2), float64(1), int64(8), object(23)\n",
      "memory usage: 3.6+ MB\n"
     ]
    }
   ],
   "source": [
    "df.info()"
   ]
  },
  {
   "cell_type": "code",
   "execution_count": 5,
   "metadata": {},
   "outputs": [
    {
     "data": {
      "text/html": [
       "<div>\n",
       "<style scoped>\n",
       "    .dataframe tbody tr th:only-of-type {\n",
       "        vertical-align: middle;\n",
       "    }\n",
       "\n",
       "    .dataframe tbody tr th {\n",
       "        vertical-align: top;\n",
       "    }\n",
       "\n",
       "    .dataframe thead th {\n",
       "        text-align: right;\n",
       "    }\n",
       "</style>\n",
       "<table border=\"1\" class=\"dataframe\">\n",
       "  <thead>\n",
       "    <tr style=\"text-align: right;\">\n",
       "      <th></th>\n",
       "      <th>Unnamed: 0</th>\n",
       "      <th>id</th>\n",
       "      <th>asset_contract.total_supply</th>\n",
       "      <th>asset_contract.seller_fee_basis_points</th>\n",
       "      <th>asset_contract.dev_seller_fee_basis_points</th>\n",
       "      <th>asset_contract.opensea_seller_fee_basis_points</th>\n",
       "      <th>collection.dev_seller_fee_basis_points</th>\n",
       "      <th>collection.opensea_seller_fee_basis_points</th>\n",
       "      <th>target</th>\n",
       "    </tr>\n",
       "  </thead>\n",
       "  <tbody>\n",
       "    <tr>\n",
       "      <th>count</th>\n",
       "      <td>14461.000000</td>\n",
       "      <td>1.446100e+04</td>\n",
       "      <td>1328.000000</td>\n",
       "      <td>14461.000000</td>\n",
       "      <td>14461.000000</td>\n",
       "      <td>14461.000000</td>\n",
       "      <td>14461.000000</td>\n",
       "      <td>14461.000000</td>\n",
       "      <td>14461.000000</td>\n",
       "    </tr>\n",
       "    <tr>\n",
       "      <th>mean</th>\n",
       "      <td>7230.000000</td>\n",
       "      <td>6.189012e+07</td>\n",
       "      <td>137.871235</td>\n",
       "      <td>386.151373</td>\n",
       "      <td>136.289676</td>\n",
       "      <td>249.861697</td>\n",
       "      <td>455.793790</td>\n",
       "      <td>249.861697</td>\n",
       "      <td>0.668004</td>\n",
       "    </tr>\n",
       "    <tr>\n",
       "      <th>std</th>\n",
       "      <td>4174.675456</td>\n",
       "      <td>4.724710e+07</td>\n",
       "      <td>1146.537191</td>\n",
       "      <td>247.060855</td>\n",
       "      <td>247.061572</td>\n",
       "      <td>5.878692</td>\n",
       "      <td>384.439182</td>\n",
       "      <td>5.878692</td>\n",
       "      <td>0.470946</td>\n",
       "    </tr>\n",
       "    <tr>\n",
       "      <th>min</th>\n",
       "      <td>0.000000</td>\n",
       "      <td>1.787230e+05</td>\n",
       "      <td>0.000000</td>\n",
       "      <td>250.000000</td>\n",
       "      <td>0.000000</td>\n",
       "      <td>0.000000</td>\n",
       "      <td>0.000000</td>\n",
       "      <td>0.000000</td>\n",
       "      <td>0.000000</td>\n",
       "    </tr>\n",
       "    <tr>\n",
       "      <th>25%</th>\n",
       "      <td>3615.000000</td>\n",
       "      <td>1.706683e+07</td>\n",
       "      <td>0.000000</td>\n",
       "      <td>250.000000</td>\n",
       "      <td>0.000000</td>\n",
       "      <td>250.000000</td>\n",
       "      <td>250.000000</td>\n",
       "      <td>250.000000</td>\n",
       "      <td>0.000000</td>\n",
       "    </tr>\n",
       "    <tr>\n",
       "      <th>50%</th>\n",
       "      <td>7230.000000</td>\n",
       "      <td>5.714872e+07</td>\n",
       "      <td>0.000000</td>\n",
       "      <td>250.000000</td>\n",
       "      <td>0.000000</td>\n",
       "      <td>250.000000</td>\n",
       "      <td>250.000000</td>\n",
       "      <td>250.000000</td>\n",
       "      <td>1.000000</td>\n",
       "    </tr>\n",
       "    <tr>\n",
       "      <th>75%</th>\n",
       "      <td>10845.000000</td>\n",
       "      <td>1.118344e+08</td>\n",
       "      <td>0.000000</td>\n",
       "      <td>500.000000</td>\n",
       "      <td>250.000000</td>\n",
       "      <td>250.000000</td>\n",
       "      <td>1000.000000</td>\n",
       "      <td>250.000000</td>\n",
       "      <td>1.000000</td>\n",
       "    </tr>\n",
       "    <tr>\n",
       "      <th>max</th>\n",
       "      <td>14460.000000</td>\n",
       "      <td>1.190305e+08</td>\n",
       "      <td>10333.000000</td>\n",
       "      <td>1500.000000</td>\n",
       "      <td>1250.000000</td>\n",
       "      <td>250.000000</td>\n",
       "      <td>1500.000000</td>\n",
       "      <td>250.000000</td>\n",
       "      <td>1.000000</td>\n",
       "    </tr>\n",
       "  </tbody>\n",
       "</table>\n",
       "</div>"
      ],
      "text/plain": [
       "         Unnamed: 0            id  asset_contract.total_supply  \\\n",
       "count  14461.000000  1.446100e+04                  1328.000000   \n",
       "mean    7230.000000  6.189012e+07                   137.871235   \n",
       "std     4174.675456  4.724710e+07                  1146.537191   \n",
       "min        0.000000  1.787230e+05                     0.000000   \n",
       "25%     3615.000000  1.706683e+07                     0.000000   \n",
       "50%     7230.000000  5.714872e+07                     0.000000   \n",
       "75%    10845.000000  1.118344e+08                     0.000000   \n",
       "max    14460.000000  1.190305e+08                 10333.000000   \n",
       "\n",
       "       asset_contract.seller_fee_basis_points  \\\n",
       "count                            14461.000000   \n",
       "mean                               386.151373   \n",
       "std                                247.060855   \n",
       "min                                250.000000   \n",
       "25%                                250.000000   \n",
       "50%                                250.000000   \n",
       "75%                                500.000000   \n",
       "max                               1500.000000   \n",
       "\n",
       "       asset_contract.dev_seller_fee_basis_points  \\\n",
       "count                                14461.000000   \n",
       "mean                                   136.289676   \n",
       "std                                    247.061572   \n",
       "min                                      0.000000   \n",
       "25%                                      0.000000   \n",
       "50%                                      0.000000   \n",
       "75%                                    250.000000   \n",
       "max                                   1250.000000   \n",
       "\n",
       "       asset_contract.opensea_seller_fee_basis_points  \\\n",
       "count                                    14461.000000   \n",
       "mean                                       249.861697   \n",
       "std                                          5.878692   \n",
       "min                                          0.000000   \n",
       "25%                                        250.000000   \n",
       "50%                                        250.000000   \n",
       "75%                                        250.000000   \n",
       "max                                        250.000000   \n",
       "\n",
       "       collection.dev_seller_fee_basis_points  \\\n",
       "count                            14461.000000   \n",
       "mean                               455.793790   \n",
       "std                                384.439182   \n",
       "min                                  0.000000   \n",
       "25%                                250.000000   \n",
       "50%                                250.000000   \n",
       "75%                               1000.000000   \n",
       "max                               1500.000000   \n",
       "\n",
       "       collection.opensea_seller_fee_basis_points        target  \n",
       "count                                14461.000000  14461.000000  \n",
       "mean                                   249.861697      0.668004  \n",
       "std                                      5.878692      0.470946  \n",
       "min                                      0.000000      0.000000  \n",
       "25%                                    250.000000      0.000000  \n",
       "50%                                    250.000000      1.000000  \n",
       "75%                                    250.000000      1.000000  \n",
       "max                                    250.000000      1.000000  "
      ]
     },
     "execution_count": 5,
     "metadata": {},
     "output_type": "execute_result"
    }
   ],
   "source": [
    "df.describe()"
   ]
  },
  {
   "cell_type": "code",
   "execution_count": 6,
   "metadata": {},
   "outputs": [],
   "source": [
    "df = df.drop('Unnamed: 0', axis = 1)"
   ]
  },
  {
   "cell_type": "markdown",
   "metadata": {},
   "source": [
    "#### Checking the object data type"
   ]
  },
  {
   "cell_type": "code",
   "execution_count": 7,
   "metadata": {
    "scrolled": true
   },
   "outputs": [
    {
     "data": {
      "text/html": [
       "<div>\n",
       "<style scoped>\n",
       "    .dataframe tbody tr th:only-of-type {\n",
       "        vertical-align: middle;\n",
       "    }\n",
       "\n",
       "    .dataframe tbody tr th {\n",
       "        vertical-align: top;\n",
       "    }\n",
       "\n",
       "    .dataframe thead th {\n",
       "        text-align: right;\n",
       "    }\n",
       "</style>\n",
       "<table border=\"1\" class=\"dataframe\">\n",
       "  <thead>\n",
       "    <tr style=\"text-align: right;\">\n",
       "      <th></th>\n",
       "      <th>token_id</th>\n",
       "      <th>name</th>\n",
       "      <th>traits</th>\n",
       "      <th>description</th>\n",
       "      <th>asset_contract.created_date</th>\n",
       "      <th>asset_contract.name</th>\n",
       "      <th>asset_contract.symbol</th>\n",
       "      <th>asset_contract.schema_name</th>\n",
       "      <th>asset_contract.asset_contract_type</th>\n",
       "      <th>asset_contract.nft_version</th>\n",
       "      <th>asset_contract.opensea_version</th>\n",
       "      <th>collection.created_date</th>\n",
       "      <th>collection.slug</th>\n",
       "      <th>collection.safelist_request_status</th>\n",
       "      <th>collection.description</th>\n",
       "      <th>collection.external_url</th>\n",
       "      <th>collection.image_url</th>\n",
       "      <th>collection.twitter_username</th>\n",
       "      <th>collection.instagram_username</th>\n",
       "      <th>collection.medium_username</th>\n",
       "      <th>collection.chat_url</th>\n",
       "      <th>creator.user.username</th>\n",
       "      <th>owner.address</th>\n",
       "    </tr>\n",
       "  </thead>\n",
       "  <tbody>\n",
       "    <tr>\n",
       "      <th>count</th>\n",
       "      <td>14461</td>\n",
       "      <td>13698</td>\n",
       "      <td>14461</td>\n",
       "      <td>10469</td>\n",
       "      <td>14461</td>\n",
       "      <td>14461</td>\n",
       "      <td>13151</td>\n",
       "      <td>14461</td>\n",
       "      <td>14461</td>\n",
       "      <td>4734</td>\n",
       "      <td>7888</td>\n",
       "      <td>14461</td>\n",
       "      <td>14461</td>\n",
       "      <td>14461</td>\n",
       "      <td>12598</td>\n",
       "      <td>8240</td>\n",
       "      <td>13417</td>\n",
       "      <td>10905</td>\n",
       "      <td>3220</td>\n",
       "      <td>2118</td>\n",
       "      <td>1</td>\n",
       "      <td>12092</td>\n",
       "      <td>14461</td>\n",
       "    </tr>\n",
       "    <tr>\n",
       "      <th>unique</th>\n",
       "      <td>14461</td>\n",
       "      <td>11118</td>\n",
       "      <td>6723</td>\n",
       "      <td>8114</td>\n",
       "      <td>453</td>\n",
       "      <td>433</td>\n",
       "      <td>400</td>\n",
       "      <td>3</td>\n",
       "      <td>2</td>\n",
       "      <td>3</td>\n",
       "      <td>1</td>\n",
       "      <td>2164</td>\n",
       "      <td>2171</td>\n",
       "      <td>4</td>\n",
       "      <td>1723</td>\n",
       "      <td>956</td>\n",
       "      <td>1840</td>\n",
       "      <td>1203</td>\n",
       "      <td>668</td>\n",
       "      <td>139</td>\n",
       "      <td>1</td>\n",
       "      <td>2095</td>\n",
       "      <td>4085</td>\n",
       "    </tr>\n",
       "    <tr>\n",
       "      <th>top</th>\n",
       "      <td>1</td>\n",
       "      <td>Clayton Kershaw</td>\n",
       "      <td>[]</td>\n",
       "      <td>The Toy Boogers collection is 100% handmade an...</td>\n",
       "      <td>2020-12-02 17:40:53.232025</td>\n",
       "      <td>OpenSea Collection</td>\n",
       "      <td>OPENSTORE</td>\n",
       "      <td>ERC1155</td>\n",
       "      <td>semi-fungible</td>\n",
       "      <td>3.0</td>\n",
       "      <td>2.0.0</td>\n",
       "      <td>2019-04-26 22:13:24.304778</td>\n",
       "      <td>dodgers-mlb-crypto</td>\n",
       "      <td>not_requested</td>\n",
       "      <td>The Los Angeles Dodgers and Lucid Sight are pr...</td>\n",
       "      <td>https://www.mlbc.app/dodgers</td>\n",
       "      <td>https://lh3.googleusercontent.com/bxTDkUWAgD_I...</td>\n",
       "      <td>MLBChampions</td>\n",
       "      <td>parallel_nft</td>\n",
       "      <td>rarible</td>\n",
       "      <td>https://discord.gg/FpN2ws6</td>\n",
       "      <td>0x3ee5c5f600a019a68a43c61e5966e0b3e8c6ce71</td>\n",
       "      <td>0x0000000000000000000000000000000000000000</td>\n",
       "    </tr>\n",
       "    <tr>\n",
       "      <th>freq</th>\n",
       "      <td>1</td>\n",
       "      <td>877</td>\n",
       "      <td>7073</td>\n",
       "      <td>126</td>\n",
       "      <td>7885</td>\n",
       "      <td>7885</td>\n",
       "      <td>7888</td>\n",
       "      <td>9729</td>\n",
       "      <td>9729</td>\n",
       "      <td>4680</td>\n",
       "      <td>7888</td>\n",
       "      <td>2426</td>\n",
       "      <td>2426</td>\n",
       "      <td>9918</td>\n",
       "      <td>2426</td>\n",
       "      <td>2426</td>\n",
       "      <td>2426</td>\n",
       "      <td>2426</td>\n",
       "      <td>170</td>\n",
       "      <td>1001</td>\n",
       "      <td>1</td>\n",
       "      <td>2433</td>\n",
       "      <td>9745</td>\n",
       "    </tr>\n",
       "  </tbody>\n",
       "</table>\n",
       "</div>"
      ],
      "text/plain": [
       "       token_id             name traits  \\\n",
       "count     14461            13698  14461   \n",
       "unique    14461            11118   6723   \n",
       "top           1  Clayton Kershaw     []   \n",
       "freq          1              877   7073   \n",
       "\n",
       "                                              description  \\\n",
       "count                                               10469   \n",
       "unique                                               8114   \n",
       "top     The Toy Boogers collection is 100% handmade an...   \n",
       "freq                                                  126   \n",
       "\n",
       "       asset_contract.created_date asset_contract.name asset_contract.symbol  \\\n",
       "count                        14461               14461                 13151   \n",
       "unique                         453                 433                   400   \n",
       "top     2020-12-02 17:40:53.232025  OpenSea Collection             OPENSTORE   \n",
       "freq                          7885                7885                  7888   \n",
       "\n",
       "       asset_contract.schema_name asset_contract.asset_contract_type  \\\n",
       "count                       14461                              14461   \n",
       "unique                          3                                  2   \n",
       "top                       ERC1155                      semi-fungible   \n",
       "freq                         9729                               9729   \n",
       "\n",
       "       asset_contract.nft_version asset_contract.opensea_version  \\\n",
       "count                        4734                           7888   \n",
       "unique                          3                              1   \n",
       "top                           3.0                          2.0.0   \n",
       "freq                         4680                           7888   \n",
       "\n",
       "           collection.created_date     collection.slug  \\\n",
       "count                        14461               14461   \n",
       "unique                        2164                2171   \n",
       "top     2019-04-26 22:13:24.304778  dodgers-mlb-crypto   \n",
       "freq                          2426                2426   \n",
       "\n",
       "       collection.safelist_request_status  \\\n",
       "count                               14461   \n",
       "unique                                  4   \n",
       "top                         not_requested   \n",
       "freq                                 9918   \n",
       "\n",
       "                                   collection.description  \\\n",
       "count                                               12598   \n",
       "unique                                               1723   \n",
       "top     The Los Angeles Dodgers and Lucid Sight are pr...   \n",
       "freq                                                 2426   \n",
       "\n",
       "             collection.external_url  \\\n",
       "count                           8240   \n",
       "unique                           956   \n",
       "top     https://www.mlbc.app/dodgers   \n",
       "freq                            2426   \n",
       "\n",
       "                                     collection.image_url  \\\n",
       "count                                               13417   \n",
       "unique                                               1840   \n",
       "top     https://lh3.googleusercontent.com/bxTDkUWAgD_I...   \n",
       "freq                                                 2426   \n",
       "\n",
       "       collection.twitter_username collection.instagram_username  \\\n",
       "count                        10905                          3220   \n",
       "unique                        1203                           668   \n",
       "top                   MLBChampions                  parallel_nft   \n",
       "freq                          2426                           170   \n",
       "\n",
       "       collection.medium_username         collection.chat_url  \\\n",
       "count                        2118                           1   \n",
       "unique                        139                           1   \n",
       "top                       rarible  https://discord.gg/FpN2ws6   \n",
       "freq                         1001                           1   \n",
       "\n",
       "                             creator.user.username  \\\n",
       "count                                        12092   \n",
       "unique                                        2095   \n",
       "top     0x3ee5c5f600a019a68a43c61e5966e0b3e8c6ce71   \n",
       "freq                                          2433   \n",
       "\n",
       "                                     owner.address  \n",
       "count                                        14461  \n",
       "unique                                        4085  \n",
       "top     0x0000000000000000000000000000000000000000  \n",
       "freq                                          9745  "
      ]
     },
     "execution_count": 7,
     "metadata": {},
     "output_type": "execute_result"
    }
   ],
   "source": [
    "df[[c for c in df.columns if df[c].dtype == 'object']].describe()"
   ]
  },
  {
   "cell_type": "markdown",
   "metadata": {},
   "source": [
    "#### Baseline Understanding "
   ]
  },
  {
   "cell_type": "code",
   "execution_count": 8,
   "metadata": {},
   "outputs": [
    {
     "data": {
      "text/plain": [
       "1    0.668004\n",
       "0    0.331996\n",
       "Name: target, dtype: float64"
      ]
     },
     "execution_count": 8,
     "metadata": {},
     "output_type": "execute_result"
    }
   ],
   "source": [
    "df['target'].value_counts(normalize=True)"
   ]
  },
  {
   "cell_type": "code",
   "execution_count": 9,
   "metadata": {
    "scrolled": true
   },
   "outputs": [
    {
     "data": {
      "image/png": "[encoded data removed]",
      "text/plain": [
       "<Figure size 432x288 with 1 Axes>"
      ]
     },
     "metadata": {
      "needs_background": "light"
     },
     "output_type": "display_data"
    }
   ],
   "source": [
    "df['target'].value_counts().plot(kind='bar');"
   ]
  },
  {
   "cell_type": "code",
   "execution_count": null,
   "metadata": {},
   "outputs": [],
   "source": [
    "# dropped the null values of the object type and token_id and the traits cos there is no standard \n",
    "# traits for each of this token."
   ]
  },
  {
   "cell_type": "code",
   "execution_count": 11,
   "metadata": {
    "scrolled": false
   },
   "outputs": [],
   "source": [
    "df_obj = df.select_dtypes('object').dropna(axis=1)"
   ]
  },
  {
   "cell_type": "code",
   "execution_count": 14,
   "metadata": {},
   "outputs": [],
   "source": [
    "df_obj.drop(['token_id', 'traits'], axis=1, inplace=True)"
   ]
  },
  {
   "cell_type": "code",
   "execution_count": 16,
   "metadata": {},
   "outputs": [],
   "source": [
    "nft_df = pd.concat([df_obj, df.select_dtypes(['int64', 'float64', 'bool'])], axis=1)"
   ]
  },
  {
   "cell_type": "code",
   "execution_count": 18,
   "metadata": {},
   "outputs": [
    {
     "data": {
      "text/plain": [
       "(14461, 18)"
      ]
     },
     "execution_count": 18,
     "metadata": {},
     "output_type": "execute_result"
    }
   ],
   "source": [
    "nft_df.shape"
   ]
  },
  {
   "cell_type": "markdown",
   "metadata": {},
   "source": [
    "<!--  -->"
   ]
  },
  {
   "cell_type": "markdown",
   "metadata": {},
   "source": [
    "##### some attempts in Fixing missing Values"
   ]
  },
  {
   "cell_type": "code",
   "execution_count": null,
   "metadata": {},
   "outputs": [],
   "source": [
    "# int_att = [num for num in X_train.columns if X_train[num].dtypes not in ['O', 'bool']]"
   ]
  },
  {
   "cell_type": "code",
   "execution_count": null,
   "metadata": {},
   "outputs": [],
   "source": [
    "# bool_attribute = [bol for bol in X_train.columns if X_train[bol].dtypes == 'bool']\n",
    "# date_att = [time for time in X_train.columns if X_train[time].dtypes == 'O' and 'date' in time]\n",
    "# cat_att = [obj for obj in X_train.columns if X_train[obj].dtypes == 'O' and obj not in date_att]\n",
    "\n",
    "# # print(f\"Boolean = {bool_attribute} \\n\")\n",
    "# print(f\"Integer = {int_att} \\n\")\n",
    "# print(f\"Time = {date_att} \\n\")\n",
    "# print(f\"Object = {cat_att} \\n\")"
   ]
  },
  {
   "cell_type": "code",
   "execution_count": null,
   "metadata": {},
   "outputs": [],
   "source": [
    "# Now lets check for numerical variables the contains missing values\n",
    "# numerical_with_nan=[num for num in int_att if X_train[num].isnull().sum() > 1 ]\n",
    "## We will print the numerical nan variables and percentage of missing values\n",
    "\n",
    "# for feature in numerical_with_nan:\n",
    "#     print(\"{}: {}% missing value\".format(feature,np.around(df[feature].isnull().mean(),4)))\n"
   ]
  },
  {
   "cell_type": "code",
   "execution_count": null,
   "metadata": {},
   "outputs": [],
   "source": [
    "# Replacing the numerical Missing Values\n",
    "\n",
    "# for feature in numerical_with_nan:\n",
    "#     ## We will replace by using median since there are outliers\n",
    "#     median_value=X_train[feature].median()\n",
    "    \n",
    "#     ## \n",
    "# create a new feature to capture nan values\n",
    "#     X_train[feature+'nan']=np.where(X_train[feature].isnull(),1,0)\n",
    "#     X_train[feature].fillna(median_value,inplace=True)\n",
    "    \n",
    "# X_train[numerical_with_nan].isnull().sum()"
   ]
  },
  {
   "cell_type": "markdown",
   "metadata": {},
   "source": [
    "#### Categorical Variable"
   ]
  },
  {
   "cell_type": "code",
   "execution_count": null,
   "metadata": {},
   "outputs": [],
   "source": [
    "# features_nan=[feature for feature in cat_att if X_train[feature].isnull().sum()>1 and X_train[feature].dtypes=='O']\n",
    "\n",
    "# for feature in features_nan:\n",
    "#     print(\"{}: {}% missing values\".format(feature,np.round(X_train[feature].isnull().mean(),4)))"
   ]
  },
  {
   "cell_type": "code",
   "execution_count": null,
   "metadata": {},
   "outputs": [],
   "source": [
    "# def replace_cat_feature(dataset,features_nan):\n",
    "#     data=df.copy()\n",
    "#     data[features_nan]=data[features_nan].fillna('Missing')\n",
    "#     return data\n",
    "\n",
    "# X_train=replace_cat_feature(X_train,features_nan)\n",
    "\n",
    "# X_train[features_nan].isnull().sum()"
   ]
  },
  {
   "cell_type": "markdown",
   "metadata": {},
   "source": [
    "### Boolean variable"
   ]
  },
  {
   "cell_type": "code",
   "execution_count": null,
   "metadata": {},
   "outputs": [],
   "source": [
    "# for column in bool_attribute:\n",
    "#     X_train[column] = np.where(X_train[column] == True, 1, 0)"
   ]
  },
  {
   "cell_type": "markdown",
   "metadata": {},
   "source": [
    "#### Numerical Variable"
   ]
  },
  {
   "cell_type": "code",
   "execution_count": null,
   "metadata": {
    "scrolled": false
   },
   "outputs": [],
   "source": [
    "# for x in int_att:\n",
    "#     print(f\"*********** {x} ***********\")\n",
    "#     print(X_train[x].value_counts())\n",
    "#     print(\"\\n\\n\")"
   ]
  },
  {
   "cell_type": "markdown",
   "metadata": {},
   "source": [
    "###  Train test split"
   ]
  },
  {
   "cell_type": "code",
   "execution_count": 19,
   "metadata": {},
   "outputs": [],
   "source": [
    "X = nft_df.drop('target', axis=1)\n",
    "y = nft_df['target']"
   ]
  },
  {
   "cell_type": "code",
   "execution_count": 20,
   "metadata": {},
   "outputs": [],
   "source": [
    "X_train, X_test, y_train, y_test = train_test_split(X, y, test_size=0.15, random_state=42)"
   ]
  },
  {
   "cell_type": "code",
   "execution_count": 71,
   "metadata": {
    "scrolled": false
   },
   "outputs": [
    {
     "data": {
      "text/html": [
       "<div>\n",
       "<style scoped>\n",
       "    .dataframe tbody tr th:only-of-type {\n",
       "        vertical-align: middle;\n",
       "    }\n",
       "\n",
       "    .dataframe tbody tr th {\n",
       "        vertical-align: top;\n",
       "    }\n",
       "\n",
       "    .dataframe thead th {\n",
       "        text-align: right;\n",
       "    }\n",
       "</style>\n",
       "<table border=\"1\" class=\"dataframe\">\n",
       "  <thead>\n",
       "    <tr style=\"text-align: right;\">\n",
       "      <th></th>\n",
       "      <th>asset_contract.created_date</th>\n",
       "      <th>asset_contract.name</th>\n",
       "      <th>asset_contract.schema_name</th>\n",
       "      <th>asset_contract.asset_contract_type</th>\n",
       "      <th>collection.created_date</th>\n",
       "      <th>collection.slug</th>\n",
       "      <th>collection.safelist_request_status</th>\n",
       "      <th>owner.address</th>\n",
       "      <th>id</th>\n",
       "      <th>is_presale</th>\n",
       "      <th>asset_contract.total_supply</th>\n",
       "      <th>asset_contract.seller_fee_basis_points</th>\n",
       "      <th>asset_contract.dev_seller_fee_basis_points</th>\n",
       "      <th>asset_contract.opensea_seller_fee_basis_points</th>\n",
       "      <th>collection.featured</th>\n",
       "      <th>collection.dev_seller_fee_basis_points</th>\n",
       "      <th>collection.opensea_seller_fee_basis_points</th>\n",
       "    </tr>\n",
       "  </thead>\n",
       "  <tbody>\n",
       "    <tr>\n",
       "      <th>1791</th>\n",
       "      <td>2020-05-27 16:53:32.834583</td>\n",
       "      <td>Rarible 1155</td>\n",
       "      <td>ERC1155</td>\n",
       "      <td>semi-fungible</td>\n",
       "      <td>2020-01-01 13:22:57.777065</td>\n",
       "      <td>rarible</td>\n",
       "      <td>approved</td>\n",
       "      <td>0x0000000000000000000000000000000000000000</td>\n",
       "      <td>21459482</td>\n",
       "      <td>False</td>\n",
       "      <td>NaN</td>\n",
       "      <td>250</td>\n",
       "      <td>0</td>\n",
       "      <td>250</td>\n",
       "      <td>False</td>\n",
       "      <td>0</td>\n",
       "      <td>250</td>\n",
       "    </tr>\n",
       "    <tr>\n",
       "      <th>8067</th>\n",
       "      <td>2020-12-02 17:40:53.232025</td>\n",
       "      <td>OpenSea Collection</td>\n",
       "      <td>ERC1155</td>\n",
       "      <td>semi-fungible</td>\n",
       "      <td>2021-11-20 22:00:44.082162</td>\n",
       "      <td>untitled-collection-15155546</td>\n",
       "      <td>not_requested</td>\n",
       "      <td>0x0000000000000000000000000000000000000000</td>\n",
       "      <td>111823746</td>\n",
       "      <td>True</td>\n",
       "      <td>NaN</td>\n",
       "      <td>250</td>\n",
       "      <td>0</td>\n",
       "      <td>250</td>\n",
       "      <td>False</td>\n",
       "      <td>0</td>\n",
       "      <td>250</td>\n",
       "    </tr>\n",
       "    <tr>\n",
       "      <th>9839</th>\n",
       "      <td>2020-12-02 17:40:53.232025</td>\n",
       "      <td>OpenSea Collection</td>\n",
       "      <td>ERC1155</td>\n",
       "      <td>semi-fungible</td>\n",
       "      <td>2021-11-21 07:31:31.489277</td>\n",
       "      <td>donald-trump-andy-warhol-style</td>\n",
       "      <td>not_requested</td>\n",
       "      <td>0x0000000000000000000000000000000000000000</td>\n",
       "      <td>111833724</td>\n",
       "      <td>True</td>\n",
       "      <td>NaN</td>\n",
       "      <td>250</td>\n",
       "      <td>0</td>\n",
       "      <td>250</td>\n",
       "      <td>False</td>\n",
       "      <td>1000</td>\n",
       "      <td>250</td>\n",
       "    </tr>\n",
       "    <tr>\n",
       "      <th>6886</th>\n",
       "      <td>2018-09-20 03:42:04.658841</td>\n",
       "      <td>Dodgers MLB Crypto</td>\n",
       "      <td>ERC721</td>\n",
       "      <td>non-fungible</td>\n",
       "      <td>2019-04-26 22:13:24.304778</td>\n",
       "      <td>dodgers-mlb-crypto</td>\n",
       "      <td>not_requested</td>\n",
       "      <td>0xcb32569a5ede5bcacaca7038ea9fbbad7c348895</td>\n",
       "      <td>1702118</td>\n",
       "      <td>False</td>\n",
       "      <td>NaN</td>\n",
       "      <td>500</td>\n",
       "      <td>250</td>\n",
       "      <td>250</td>\n",
       "      <td>False</td>\n",
       "      <td>250</td>\n",
       "      <td>250</td>\n",
       "    </tr>\n",
       "    <tr>\n",
       "      <th>3891</th>\n",
       "      <td>2018-09-25 09:54:55.173827</td>\n",
       "      <td>Hero</td>\n",
       "      <td>ERC721</td>\n",
       "      <td>non-fungible</td>\n",
       "      <td>2019-04-26 22:13:15.518921</td>\n",
       "      <td>hero</td>\n",
       "      <td>not_requested</td>\n",
       "      <td>0xd5768cb94634dea639f32078c4e82b5161a081fc</td>\n",
       "      <td>1715526</td>\n",
       "      <td>False</td>\n",
       "      <td>NaN</td>\n",
       "      <td>250</td>\n",
       "      <td>0</td>\n",
       "      <td>250</td>\n",
       "      <td>False</td>\n",
       "      <td>0</td>\n",
       "      <td>250</td>\n",
       "    </tr>\n",
       "    <tr>\n",
       "      <th>944</th>\n",
       "      <td>2020-10-12 16:25:20.228951</td>\n",
       "      <td>dontrug.me</td>\n",
       "      <td>ERC1155</td>\n",
       "      <td>semi-fungible</td>\n",
       "      <td>2020-10-12 16:32:31.348076</td>\n",
       "      <td>dontrug-me</td>\n",
       "      <td>verified</td>\n",
       "      <td>0x0000000000000000000000000000000000000000</td>\n",
       "      <td>60449553</td>\n",
       "      <td>False</td>\n",
       "      <td>NaN</td>\n",
       "      <td>1250</td>\n",
       "      <td>1000</td>\n",
       "      <td>250</td>\n",
       "      <td>False</td>\n",
       "      <td>1000</td>\n",
       "      <td>250</td>\n",
       "    </tr>\n",
       "    <tr>\n",
       "      <th>8868</th>\n",
       "      <td>2020-12-02 17:40:53.232025</td>\n",
       "      <td>OpenSea Collection</td>\n",
       "      <td>ERC1155</td>\n",
       "      <td>semi-fungible</td>\n",
       "      <td>2021-11-21 23:02:20.969452</td>\n",
       "      <td>secretcastle</td>\n",
       "      <td>not_requested</td>\n",
       "      <td>0x0000000000000000000000000000000000000000</td>\n",
       "      <td>111827961</td>\n",
       "      <td>True</td>\n",
       "      <td>NaN</td>\n",
       "      <td>250</td>\n",
       "      <td>0</td>\n",
       "      <td>250</td>\n",
       "      <td>False</td>\n",
       "      <td>800</td>\n",
       "      <td>250</td>\n",
       "    </tr>\n",
       "    <tr>\n",
       "      <th>4829</th>\n",
       "      <td>2018-09-20 03:42:04.658841</td>\n",
       "      <td>Dodgers MLB Crypto</td>\n",
       "      <td>ERC721</td>\n",
       "      <td>non-fungible</td>\n",
       "      <td>2019-04-26 22:13:24.304778</td>\n",
       "      <td>dodgers-mlb-crypto</td>\n",
       "      <td>not_requested</td>\n",
       "      <td>0x0172b9d9328da423cc9057fb264e7b309fcba797</td>\n",
       "      <td>1704567</td>\n",
       "      <td>False</td>\n",
       "      <td>NaN</td>\n",
       "      <td>500</td>\n",
       "      <td>250</td>\n",
       "      <td>250</td>\n",
       "      <td>False</td>\n",
       "      <td>250</td>\n",
       "      <td>250</td>\n",
       "    </tr>\n",
       "    <tr>\n",
       "      <th>5358</th>\n",
       "      <td>2018-09-20 03:42:04.658841</td>\n",
       "      <td>Dodgers MLB Crypto</td>\n",
       "      <td>ERC721</td>\n",
       "      <td>non-fungible</td>\n",
       "      <td>2019-04-26 22:13:24.304778</td>\n",
       "      <td>dodgers-mlb-crypto</td>\n",
       "      <td>not_requested</td>\n",
       "      <td>0xf302a0d506087cb6393ec1a97b0e69f47c3bcee5</td>\n",
       "      <td>1703958</td>\n",
       "      <td>False</td>\n",
       "      <td>NaN</td>\n",
       "      <td>500</td>\n",
       "      <td>250</td>\n",
       "      <td>250</td>\n",
       "      <td>False</td>\n",
       "      <td>250</td>\n",
       "      <td>250</td>\n",
       "    </tr>\n",
       "    <tr>\n",
       "      <th>875</th>\n",
       "      <td>2021-09-17 15:06:09.145889</td>\n",
       "      <td>AnimightiesJigScene</td>\n",
       "      <td>ERC1155</td>\n",
       "      <td>semi-fungible</td>\n",
       "      <td>2021-09-17 15:45:24.579657</td>\n",
       "      <td>animightiesjigscene</td>\n",
       "      <td>not_requested</td>\n",
       "      <td>0x0000000000000000000000000000000000000000</td>\n",
       "      <td>53941850</td>\n",
       "      <td>False</td>\n",
       "      <td>NaN</td>\n",
       "      <td>750</td>\n",
       "      <td>500</td>\n",
       "      <td>250</td>\n",
       "      <td>False</td>\n",
       "      <td>500</td>\n",
       "      <td>250</td>\n",
       "    </tr>\n",
       "    <tr>\n",
       "      <th>8510</th>\n",
       "      <td>2020-12-02 17:40:53.232025</td>\n",
       "      <td>OpenSea Collection</td>\n",
       "      <td>ERC1155</td>\n",
       "      <td>semi-fungible</td>\n",
       "      <td>2021-11-10 10:44:54.951838</td>\n",
       "      <td>lucky-binary-nft-number</td>\n",
       "      <td>not_requested</td>\n",
       "      <td>0x0000000000000000000000000000000000000000</td>\n",
       "      <td>111825777</td>\n",
       "      <td>True</td>\n",
       "      <td>NaN</td>\n",
       "      <td>250</td>\n",
       "      <td>0</td>\n",
       "      <td>250</td>\n",
       "      <td>False</td>\n",
       "      <td>250</td>\n",
       "      <td>250</td>\n",
       "    </tr>\n",
       "    <tr>\n",
       "      <th>13991</th>\n",
       "      <td>2020-12-02 17:40:53.232025</td>\n",
       "      <td>OpenSea Collection</td>\n",
       "      <td>ERC1155</td>\n",
       "      <td>semi-fungible</td>\n",
       "      <td>2021-11-10 10:44:54.951838</td>\n",
       "      <td>lucky-binary-nft-number</td>\n",
       "      <td>not_requested</td>\n",
       "      <td>0x0000000000000000000000000000000000000000</td>\n",
       "      <td>117643122</td>\n",
       "      <td>True</td>\n",
       "      <td>NaN</td>\n",
       "      <td>250</td>\n",
       "      <td>0</td>\n",
       "      <td>250</td>\n",
       "      <td>False</td>\n",
       "      <td>250</td>\n",
       "      <td>250</td>\n",
       "    </tr>\n",
       "  </tbody>\n",
       "</table>\n",
       "</div>"
      ],
      "text/plain": [
       "      asset_contract.created_date  asset_contract.name  \\\n",
       "1791   2020-05-27 16:53:32.834583         Rarible 1155   \n",
       "8067   2020-12-02 17:40:53.232025   OpenSea Collection   \n",
       "9839   2020-12-02 17:40:53.232025   OpenSea Collection   \n",
       "6886   2018-09-20 03:42:04.658841   Dodgers MLB Crypto   \n",
       "3891   2018-09-25 09:54:55.173827                 Hero   \n",
       "944    2020-10-12 16:25:20.228951           dontrug.me   \n",
       "8868   2020-12-02 17:40:53.232025   OpenSea Collection   \n",
       "4829   2018-09-20 03:42:04.658841   Dodgers MLB Crypto   \n",
       "5358   2018-09-20 03:42:04.658841   Dodgers MLB Crypto   \n",
       "875    2021-09-17 15:06:09.145889  AnimightiesJigScene   \n",
       "8510   2020-12-02 17:40:53.232025   OpenSea Collection   \n",
       "13991  2020-12-02 17:40:53.232025   OpenSea Collection   \n",
       "\n",
       "      asset_contract.schema_name asset_contract.asset_contract_type  \\\n",
       "1791                     ERC1155                      semi-fungible   \n",
       "8067                     ERC1155                      semi-fungible   \n",
       "9839                     ERC1155                      semi-fungible   \n",
       "6886                      ERC721                       non-fungible   \n",
       "3891                      ERC721                       non-fungible   \n",
       "944                      ERC1155                      semi-fungible   \n",
       "8868                     ERC1155                      semi-fungible   \n",
       "4829                      ERC721                       non-fungible   \n",
       "5358                      ERC721                       non-fungible   \n",
       "875                      ERC1155                      semi-fungible   \n",
       "8510                     ERC1155                      semi-fungible   \n",
       "13991                    ERC1155                      semi-fungible   \n",
       "\n",
       "          collection.created_date                 collection.slug  \\\n",
       "1791   2020-01-01 13:22:57.777065                         rarible   \n",
       "8067   2021-11-20 22:00:44.082162    untitled-collection-15155546   \n",
       "9839   2021-11-21 07:31:31.489277  donald-trump-andy-warhol-style   \n",
       "6886   2019-04-26 22:13:24.304778              dodgers-mlb-crypto   \n",
       "3891   2019-04-26 22:13:15.518921                            hero   \n",
       "944    2020-10-12 16:32:31.348076                      dontrug-me   \n",
       "8868   2021-11-21 23:02:20.969452                    secretcastle   \n",
       "4829   2019-04-26 22:13:24.304778              dodgers-mlb-crypto   \n",
       "5358   2019-04-26 22:13:24.304778              dodgers-mlb-crypto   \n",
       "875    2021-09-17 15:45:24.579657             animightiesjigscene   \n",
       "8510   2021-11-10 10:44:54.951838         lucky-binary-nft-number   \n",
       "13991  2021-11-10 10:44:54.951838         lucky-binary-nft-number   \n",
       "\n",
       "      collection.safelist_request_status  \\\n",
       "1791                            approved   \n",
       "8067                       not_requested   \n",
       "9839                       not_requested   \n",
       "6886                       not_requested   \n",
       "3891                       not_requested   \n",
       "944                             verified   \n",
       "8868                       not_requested   \n",
       "4829                       not_requested   \n",
       "5358                       not_requested   \n",
       "875                        not_requested   \n",
       "8510                       not_requested   \n",
       "13991                      not_requested   \n",
       "\n",
       "                                    owner.address         id  is_presale  \\\n",
       "1791   0x0000000000000000000000000000000000000000   21459482       False   \n",
       "8067   0x0000000000000000000000000000000000000000  111823746        True   \n",
       "9839   0x0000000000000000000000000000000000000000  111833724        True   \n",
       "6886   0xcb32569a5ede5bcacaca7038ea9fbbad7c348895    1702118       False   \n",
       "3891   0xd5768cb94634dea639f32078c4e82b5161a081fc    1715526       False   \n",
       "944    0x0000000000000000000000000000000000000000   60449553       False   \n",
       "8868   0x0000000000000000000000000000000000000000  111827961        True   \n",
       "4829   0x0172b9d9328da423cc9057fb264e7b309fcba797    1704567       False   \n",
       "5358   0xf302a0d506087cb6393ec1a97b0e69f47c3bcee5    1703958       False   \n",
       "875    0x0000000000000000000000000000000000000000   53941850       False   \n",
       "8510   0x0000000000000000000000000000000000000000  111825777        True   \n",
       "13991  0x0000000000000000000000000000000000000000  117643122        True   \n",
       "\n",
       "       asset_contract.total_supply  asset_contract.seller_fee_basis_points  \\\n",
       "1791                           NaN                                     250   \n",
       "8067                           NaN                                     250   \n",
       "9839                           NaN                                     250   \n",
       "6886                           NaN                                     500   \n",
       "3891                           NaN                                     250   \n",
       "944                            NaN                                    1250   \n",
       "8868                           NaN                                     250   \n",
       "4829                           NaN                                     500   \n",
       "5358                           NaN                                     500   \n",
       "875                            NaN                                     750   \n",
       "8510                           NaN                                     250   \n",
       "13991                          NaN                                     250   \n",
       "\n",
       "       asset_contract.dev_seller_fee_basis_points  \\\n",
       "1791                                            0   \n",
       "8067                                            0   \n",
       "9839                                            0   \n",
       "6886                                          250   \n",
       "3891                                            0   \n",
       "944                                          1000   \n",
       "8868                                            0   \n",
       "4829                                          250   \n",
       "5358                                          250   \n",
       "875                                           500   \n",
       "8510                                            0   \n",
       "13991                                           0   \n",
       "\n",
       "       asset_contract.opensea_seller_fee_basis_points  collection.featured  \\\n",
       "1791                                              250                False   \n",
       "8067                                              250                False   \n",
       "9839                                              250                False   \n",
       "6886                                              250                False   \n",
       "3891                                              250                False   \n",
       "944                                               250                False   \n",
       "8868                                              250                False   \n",
       "4829                                              250                False   \n",
       "5358                                              250                False   \n",
       "875                                               250                False   \n",
       "8510                                              250                False   \n",
       "13991                                             250                False   \n",
       "\n",
       "       collection.dev_seller_fee_basis_points  \\\n",
       "1791                                        0   \n",
       "8067                                        0   \n",
       "9839                                     1000   \n",
       "6886                                      250   \n",
       "3891                                        0   \n",
       "944                                      1000   \n",
       "8868                                      800   \n",
       "4829                                      250   \n",
       "5358                                      250   \n",
       "875                                       500   \n",
       "8510                                      250   \n",
       "13991                                     250   \n",
       "\n",
       "       collection.opensea_seller_fee_basis_points  \n",
       "1791                                          250  \n",
       "8067                                          250  \n",
       "9839                                          250  \n",
       "6886                                          250  \n",
       "3891                                          250  \n",
       "944                                           250  \n",
       "8868                                          250  \n",
       "4829                                          250  \n",
       "5358                                          250  \n",
       "875                                           250  \n",
       "8510                                          250  \n",
       "13991                                         250  "
      ]
     },
     "execution_count": 71,
     "metadata": {},
     "output_type": "execute_result"
    }
   ],
   "source": [
    "X_train.head(12)"
   ]
  },
  {
   "cell_type": "code",
   "execution_count": null,
   "metadata": {
    "scrolled": true
   },
   "outputs": [],
   "source": [
    "X_train.select_dtypes('int64')"
   ]
  },
  {
   "cell_type": "code",
   "execution_count": 22,
   "metadata": {
    "scrolled": true
   },
   "outputs": [],
   "source": [
    "# converting the numerical variable\n",
    "nft_impute = SimpleImputer(strategy='median')\n",
    "x_train_int = nft_impute.fit_transform(X_train.select_dtypes(['int64', 'float64']))"
   ]
  },
  {
   "cell_type": "code",
   "execution_count": 23,
   "metadata": {
    "scrolled": false
   },
   "outputs": [],
   "source": [
    "nft_int_conv = pd.DataFrame(x_train_int, columns=X_train.select_dtypes(['int64', 'float64']).columns)"
   ]
  },
  {
   "cell_type": "code",
   "execution_count": 25,
   "metadata": {
    "scrolled": true
   },
   "outputs": [
    {
     "data": {
      "text/plain": [
       "id                                                12291\n",
       "asset_contract.total_supply                          21\n",
       "asset_contract.seller_fee_basis_points               24\n",
       "asset_contract.dev_seller_fee_basis_points           24\n",
       "asset_contract.opensea_seller_fee_basis_points        2\n",
       "collection.dev_seller_fee_basis_points               46\n",
       "collection.opensea_seller_fee_basis_points            2\n",
       "dtype: int64"
      ]
     },
     "execution_count": 25,
     "metadata": {},
     "output_type": "execute_result"
    }
   ],
   "source": [
    "nft_int_conv.nunique()"
   ]
  },
  {
   "cell_type": "code",
   "execution_count": 24,
   "metadata": {
    "scrolled": true
   },
   "outputs": [
    {
     "data": {
      "text/plain": [
       "asset_contract.created_date           0\n",
       "asset_contract.name                   0\n",
       "asset_contract.schema_name            0\n",
       "asset_contract.asset_contract_type    0\n",
       "collection.created_date               0\n",
       "collection.slug                       0\n",
       "collection.safelist_request_status    0\n",
       "owner.address                         0\n",
       "dtype: int64"
      ]
     },
     "execution_count": 24,
     "metadata": {},
     "output_type": "execute_result"
    }
   ],
   "source": [
    "# doing the same for the object\n",
    "X_train.select_dtypes('object').isna().sum()"
   ]
  },
  {
   "cell_type": "code",
   "execution_count": 26,
   "metadata": {},
   "outputs": [],
   "source": [
    "from sklearn.preprocessing import OrdinalEncoder\n"
   ]
  },
  {
   "cell_type": "code",
   "execution_count": 39,
   "metadata": {
    "scrolled": false
   },
   "outputs": [],
   "source": [
    "ordinal_obj = OrdinalEncoder(handle_unknown = 'use_encoded_value', unknown_value=9999)\n",
    "transformed_obj = ordinal_obj.fit_transform(X_train.select_dtypes('object'))"
   ]
  },
  {
   "cell_type": "code",
   "execution_count": 40,
   "metadata": {},
   "outputs": [],
   "source": [
    "nft_or_encode = pd.DataFrame(transformed_obj, columns=X_train.select_dtypes('object').columns)"
   ]
  },
  {
   "cell_type": "markdown",
   "metadata": {},
   "source": [
    "#### Joining the numerical and Object together for the X_train"
   ]
  },
  {
   "cell_type": "code",
   "execution_count": 41,
   "metadata": {},
   "outputs": [],
   "source": [
    "conv_nft_df = pd.concat([nft_int_conv, nft_or_encode], axis=1)"
   ]
  },
  {
   "cell_type": "code",
   "execution_count": 42,
   "metadata": {
    "scrolled": false
   },
   "outputs": [
    {
     "data": {
      "text/html": [
       "<div>\n",
       "<style scoped>\n",
       "    .dataframe tbody tr th:only-of-type {\n",
       "        vertical-align: middle;\n",
       "    }\n",
       "\n",
       "    .dataframe tbody tr th {\n",
       "        vertical-align: top;\n",
       "    }\n",
       "\n",
       "    .dataframe thead th {\n",
       "        text-align: right;\n",
       "    }\n",
       "</style>\n",
       "<table border=\"1\" class=\"dataframe\">\n",
       "  <thead>\n",
       "    <tr style=\"text-align: right;\">\n",
       "      <th></th>\n",
       "      <th>id</th>\n",
       "      <th>asset_contract.total_supply</th>\n",
       "      <th>asset_contract.seller_fee_basis_points</th>\n",
       "      <th>asset_contract.dev_seller_fee_basis_points</th>\n",
       "      <th>asset_contract.opensea_seller_fee_basis_points</th>\n",
       "      <th>collection.dev_seller_fee_basis_points</th>\n",
       "      <th>collection.opensea_seller_fee_basis_points</th>\n",
       "      <th>asset_contract.created_date</th>\n",
       "      <th>asset_contract.name</th>\n",
       "      <th>asset_contract.schema_name</th>\n",
       "      <th>asset_contract.asset_contract_type</th>\n",
       "      <th>collection.created_date</th>\n",
       "      <th>collection.slug</th>\n",
       "      <th>collection.safelist_request_status</th>\n",
       "      <th>owner.address</th>\n",
       "    </tr>\n",
       "  </thead>\n",
       "  <tbody>\n",
       "    <tr>\n",
       "      <th>0</th>\n",
       "      <td>21459482.0</td>\n",
       "      <td>0.0</td>\n",
       "      <td>250.0</td>\n",
       "      <td>0.0</td>\n",
       "      <td>250.0</td>\n",
       "      <td>0.0</td>\n",
       "      <td>250.0</td>\n",
       "      <td>32.0</td>\n",
       "      <td>280.0</td>\n",
       "      <td>1.0</td>\n",
       "      <td>1.0</td>\n",
       "      <td>31.0</td>\n",
       "      <td>1243.0</td>\n",
       "      <td>0.0</td>\n",
       "      <td>0.0</td>\n",
       "    </tr>\n",
       "    <tr>\n",
       "      <th>1</th>\n",
       "      <td>111823746.0</td>\n",
       "      <td>0.0</td>\n",
       "      <td>250.0</td>\n",
       "      <td>0.0</td>\n",
       "      <td>250.0</td>\n",
       "      <td>0.0</td>\n",
       "      <td>250.0</td>\n",
       "      <td>51.0</td>\n",
       "      <td>242.0</td>\n",
       "      <td>1.0</td>\n",
       "      <td>1.0</td>\n",
       "      <td>1573.0</td>\n",
       "      <td>1796.0</td>\n",
       "      <td>1.0</td>\n",
       "      <td>0.0</td>\n",
       "    </tr>\n",
       "    <tr>\n",
       "      <th>2</th>\n",
       "      <td>111833724.0</td>\n",
       "      <td>0.0</td>\n",
       "      <td>250.0</td>\n",
       "      <td>0.0</td>\n",
       "      <td>250.0</td>\n",
       "      <td>1000.0</td>\n",
       "      <td>250.0</td>\n",
       "      <td>51.0</td>\n",
       "      <td>242.0</td>\n",
       "      <td>1.0</td>\n",
       "      <td>1.0</td>\n",
       "      <td>1590.0</td>\n",
       "      <td>512.0</td>\n",
       "      <td>1.0</td>\n",
       "      <td>0.0</td>\n",
       "    </tr>\n",
       "    <tr>\n",
       "      <th>3</th>\n",
       "      <td>1702118.0</td>\n",
       "      <td>0.0</td>\n",
       "      <td>500.0</td>\n",
       "      <td>250.0</td>\n",
       "      <td>250.0</td>\n",
       "      <td>250.0</td>\n",
       "      <td>250.0</td>\n",
       "      <td>11.0</td>\n",
       "      <td>100.0</td>\n",
       "      <td>2.0</td>\n",
       "      <td>0.0</td>\n",
       "      <td>20.0</td>\n",
       "      <td>501.0</td>\n",
       "      <td>1.0</td>\n",
       "      <td>2806.0</td>\n",
       "    </tr>\n",
       "    <tr>\n",
       "      <th>4</th>\n",
       "      <td>1715526.0</td>\n",
       "      <td>0.0</td>\n",
       "      <td>250.0</td>\n",
       "      <td>0.0</td>\n",
       "      <td>250.0</td>\n",
       "      <td>0.0</td>\n",
       "      <td>250.0</td>\n",
       "      <td>12.0</td>\n",
       "      <td>160.0</td>\n",
       "      <td>2.0</td>\n",
       "      <td>0.0</td>\n",
       "      <td>14.0</td>\n",
       "      <td>739.0</td>\n",
       "      <td>1.0</td>\n",
       "      <td>2948.0</td>\n",
       "    </tr>\n",
       "  </tbody>\n",
       "</table>\n",
       "</div>"
      ],
      "text/plain": [
       "            id  asset_contract.total_supply  \\\n",
       "0   21459482.0                          0.0   \n",
       "1  111823746.0                          0.0   \n",
       "2  111833724.0                          0.0   \n",
       "3    1702118.0                          0.0   \n",
       "4    1715526.0                          0.0   \n",
       "\n",
       "   asset_contract.seller_fee_basis_points  \\\n",
       "0                                   250.0   \n",
       "1                                   250.0   \n",
       "2                                   250.0   \n",
       "3                                   500.0   \n",
       "4                                   250.0   \n",
       "\n",
       "   asset_contract.dev_seller_fee_basis_points  \\\n",
       "0                                         0.0   \n",
       "1                                         0.0   \n",
       "2                                         0.0   \n",
       "3                                       250.0   \n",
       "4                                         0.0   \n",
       "\n",
       "   asset_contract.opensea_seller_fee_basis_points  \\\n",
       "0                                           250.0   \n",
       "1                                           250.0   \n",
       "2                                           250.0   \n",
       "3                                           250.0   \n",
       "4                                           250.0   \n",
       "\n",
       "   collection.dev_seller_fee_basis_points  \\\n",
       "0                                     0.0   \n",
       "1                                     0.0   \n",
       "2                                  1000.0   \n",
       "3                                   250.0   \n",
       "4                                     0.0   \n",
       "\n",
       "   collection.opensea_seller_fee_basis_points  asset_contract.created_date  \\\n",
       "0                                       250.0                         32.0   \n",
       "1                                       250.0                         51.0   \n",
       "2                                       250.0                         51.0   \n",
       "3                                       250.0                         11.0   \n",
       "4                                       250.0                         12.0   \n",
       "\n",
       "   asset_contract.name  asset_contract.schema_name  \\\n",
       "0                280.0                         1.0   \n",
       "1                242.0                         1.0   \n",
       "2                242.0                         1.0   \n",
       "3                100.0                         2.0   \n",
       "4                160.0                         2.0   \n",
       "\n",
       "   asset_contract.asset_contract_type  collection.created_date  \\\n",
       "0                                 1.0                     31.0   \n",
       "1                                 1.0                   1573.0   \n",
       "2                                 1.0                   1590.0   \n",
       "3                                 0.0                     20.0   \n",
       "4                                 0.0                     14.0   \n",
       "\n",
       "   collection.slug  collection.safelist_request_status  owner.address  \n",
       "0           1243.0                                 0.0            0.0  \n",
       "1           1796.0                                 1.0            0.0  \n",
       "2            512.0                                 1.0            0.0  \n",
       "3            501.0                                 1.0         2806.0  \n",
       "4            739.0                                 1.0         2948.0  "
      ]
     },
     "execution_count": 42,
     "metadata": {},
     "output_type": "execute_result"
    }
   ],
   "source": [
    "conv_nft_df.head()"
   ]
  },
  {
   "cell_type": "code",
   "execution_count": null,
   "metadata": {},
   "outputs": [],
   "source": [
    "# conv_nft_df = conv_nft_df.drop('Unnamed: 0', axis = 1)"
   ]
  },
  {
   "cell_type": "code",
   "execution_count": null,
   "metadata": {
    "scrolled": true
   },
   "outputs": [],
   "source": [
    "# conv_nft_df"
   ]
  },
  {
   "cell_type": "markdown",
   "metadata": {},
   "source": [
    "#### Convert Test Data"
   ]
  },
  {
   "cell_type": "code",
   "execution_count": null,
   "metadata": {},
   "outputs": [],
   "source": [
    "# Doing the same preprocessing to the test data"
   ]
  },
  {
   "cell_type": "code",
   "execution_count": 32,
   "metadata": {},
   "outputs": [],
   "source": [
    "x_test_int = nft_impute.transform(X_test.select_dtypes(['int64', 'float64']))"
   ]
  },
  {
   "cell_type": "code",
   "execution_count": 33,
   "metadata": {},
   "outputs": [],
   "source": [
    "nft_int_conv_test = pd.DataFrame(x_test_int, columns=X_test.select_dtypes(['int64', 'float64']).columns)"
   ]
  },
  {
   "cell_type": "code",
   "execution_count": 34,
   "metadata": {},
   "outputs": [
    {
     "data": {
      "text/plain": [
       "asset_contract.created_date                        147\n",
       "asset_contract.name                                143\n",
       "asset_contract.schema_name                           2\n",
       "asset_contract.asset_contract_type                   2\n",
       "collection.created_date                            646\n",
       "collection.slug                                    647\n",
       "collection.safelist_request_status                   4\n",
       "owner.address                                      652\n",
       "id                                                2170\n",
       "is_presale                                           2\n",
       "asset_contract.total_supply                         13\n",
       "asset_contract.seller_fee_basis_points              18\n",
       "asset_contract.dev_seller_fee_basis_points          18\n",
       "asset_contract.opensea_seller_fee_basis_points       2\n",
       "collection.featured                                  2\n",
       "collection.dev_seller_fee_basis_points              31\n",
       "collection.opensea_seller_fee_basis_points           2\n",
       "dtype: int64"
      ]
     },
     "execution_count": 34,
     "metadata": {},
     "output_type": "execute_result"
    }
   ],
   "source": [
    "X_test.select_dtypes('object').isna().sum()\n",
    "X_test.nunique()"
   ]
  },
  {
   "cell_type": "code",
   "execution_count": 36,
   "metadata": {},
   "outputs": [
    {
     "data": {
      "text/html": [
       "<div>\n",
       "<style scoped>\n",
       "    .dataframe tbody tr th:only-of-type {\n",
       "        vertical-align: middle;\n",
       "    }\n",
       "\n",
       "    .dataframe tbody tr th {\n",
       "        vertical-align: top;\n",
       "    }\n",
       "\n",
       "    .dataframe thead th {\n",
       "        text-align: right;\n",
       "    }\n",
       "</style>\n",
       "<table border=\"1\" class=\"dataframe\">\n",
       "  <thead>\n",
       "    <tr style=\"text-align: right;\">\n",
       "      <th></th>\n",
       "      <th>asset_contract.created_date</th>\n",
       "      <th>asset_contract.name</th>\n",
       "      <th>asset_contract.schema_name</th>\n",
       "      <th>asset_contract.asset_contract_type</th>\n",
       "      <th>collection.created_date</th>\n",
       "      <th>collection.slug</th>\n",
       "      <th>collection.safelist_request_status</th>\n",
       "      <th>owner.address</th>\n",
       "    </tr>\n",
       "  </thead>\n",
       "  <tbody>\n",
       "    <tr>\n",
       "      <th>2900</th>\n",
       "      <td>2020-12-02 17:40:53.232025</td>\n",
       "      <td>OpenSea Collection</td>\n",
       "      <td>ERC1155</td>\n",
       "      <td>semi-fungible</td>\n",
       "      <td>2021-08-18 21:21:25.521115</td>\n",
       "      <td>the-animal-kingdom-collection</td>\n",
       "      <td>not_requested</td>\n",
       "      <td>0x0000000000000000000000000000000000000000</td>\n",
       "    </tr>\n",
       "    <tr>\n",
       "      <th>13523</th>\n",
       "      <td>2020-12-02 17:40:53.232025</td>\n",
       "      <td>OpenSea Collection</td>\n",
       "      <td>ERC1155</td>\n",
       "      <td>semi-fungible</td>\n",
       "      <td>2021-11-13 11:12:11.848650</td>\n",
       "      <td>talicard</td>\n",
       "      <td>not_requested</td>\n",
       "      <td>0x0000000000000000000000000000000000000000</td>\n",
       "    </tr>\n",
       "    <tr>\n",
       "      <th>10043</th>\n",
       "      <td>2020-12-02 17:40:53.232025</td>\n",
       "      <td>OpenSea Collection</td>\n",
       "      <td>ERC1155</td>\n",
       "      <td>semi-fungible</td>\n",
       "      <td>2021-11-22 01:46:01.894371</td>\n",
       "      <td>ulyssessgrant</td>\n",
       "      <td>not_requested</td>\n",
       "      <td>0x0000000000000000000000000000000000000000</td>\n",
       "    </tr>\n",
       "    <tr>\n",
       "      <th>7900</th>\n",
       "      <td>2020-12-02 17:40:53.232025</td>\n",
       "      <td>OpenSea Collection</td>\n",
       "      <td>ERC1155</td>\n",
       "      <td>semi-fungible</td>\n",
       "      <td>2021-11-21 07:31:31.489277</td>\n",
       "      <td>donald-trump-andy-warhol-style</td>\n",
       "      <td>not_requested</td>\n",
       "      <td>0x0000000000000000000000000000000000000000</td>\n",
       "    </tr>\n",
       "    <tr>\n",
       "      <th>3479</th>\n",
       "      <td>2020-05-27 16:53:32.834583</td>\n",
       "      <td>Rarible 1155</td>\n",
       "      <td>ERC1155</td>\n",
       "      <td>semi-fungible</td>\n",
       "      <td>2020-01-01 13:22:57.777065</td>\n",
       "      <td>rarible</td>\n",
       "      <td>approved</td>\n",
       "      <td>0x0000000000000000000000000000000000000000</td>\n",
       "    </tr>\n",
       "  </tbody>\n",
       "</table>\n",
       "</div>"
      ],
      "text/plain": [
       "      asset_contract.created_date asset_contract.name  \\\n",
       "2900   2020-12-02 17:40:53.232025  OpenSea Collection   \n",
       "13523  2020-12-02 17:40:53.232025  OpenSea Collection   \n",
       "10043  2020-12-02 17:40:53.232025  OpenSea Collection   \n",
       "7900   2020-12-02 17:40:53.232025  OpenSea Collection   \n",
       "3479   2020-05-27 16:53:32.834583        Rarible 1155   \n",
       "\n",
       "      asset_contract.schema_name asset_contract.asset_contract_type  \\\n",
       "2900                     ERC1155                      semi-fungible   \n",
       "13523                    ERC1155                      semi-fungible   \n",
       "10043                    ERC1155                      semi-fungible   \n",
       "7900                     ERC1155                      semi-fungible   \n",
       "3479                     ERC1155                      semi-fungible   \n",
       "\n",
       "          collection.created_date                 collection.slug  \\\n",
       "2900   2021-08-18 21:21:25.521115   the-animal-kingdom-collection   \n",
       "13523  2021-11-13 11:12:11.848650                        talicard   \n",
       "10043  2021-11-22 01:46:01.894371                   ulyssessgrant   \n",
       "7900   2021-11-21 07:31:31.489277  donald-trump-andy-warhol-style   \n",
       "3479   2020-01-01 13:22:57.777065                         rarible   \n",
       "\n",
       "      collection.safelist_request_status  \\\n",
       "2900                       not_requested   \n",
       "13523                      not_requested   \n",
       "10043                      not_requested   \n",
       "7900                       not_requested   \n",
       "3479                            approved   \n",
       "\n",
       "                                    owner.address  \n",
       "2900   0x0000000000000000000000000000000000000000  \n",
       "13523  0x0000000000000000000000000000000000000000  \n",
       "10043  0x0000000000000000000000000000000000000000  \n",
       "7900   0x0000000000000000000000000000000000000000  \n",
       "3479   0x0000000000000000000000000000000000000000  "
      ]
     },
     "execution_count": 36,
     "metadata": {},
     "output_type": "execute_result"
    }
   ],
   "source": [
    "X_test.select_dtypes('object').head()"
   ]
  },
  {
   "cell_type": "code",
   "execution_count": 43,
   "metadata": {
    "scrolled": false
   },
   "outputs": [],
   "source": [
    "test_transformed_obj = ordinal_obj.transform(X_test.select_dtypes('object'))\n",
    "test_nft_or_encode = pd.DataFrame(test_transformed_obj, columns=X_test.select_dtypes('object').columns)"
   ]
  },
  {
   "cell_type": "code",
   "execution_count": 44,
   "metadata": {},
   "outputs": [],
   "source": [
    "test_nft_df = pd.concat([nft_int_conv_test, test_nft_or_encode], axis=1)"
   ]
  },
  {
   "cell_type": "code",
   "execution_count": 45,
   "metadata": {
    "scrolled": true
   },
   "outputs": [
    {
     "data": {
      "text/html": [
       "<div>\n",
       "<style scoped>\n",
       "    .dataframe tbody tr th:only-of-type {\n",
       "        vertical-align: middle;\n",
       "    }\n",
       "\n",
       "    .dataframe tbody tr th {\n",
       "        vertical-align: top;\n",
       "    }\n",
       "\n",
       "    .dataframe thead th {\n",
       "        text-align: right;\n",
       "    }\n",
       "</style>\n",
       "<table border=\"1\" class=\"dataframe\">\n",
       "  <thead>\n",
       "    <tr style=\"text-align: right;\">\n",
       "      <th></th>\n",
       "      <th>id</th>\n",
       "      <th>asset_contract.total_supply</th>\n",
       "      <th>asset_contract.seller_fee_basis_points</th>\n",
       "      <th>asset_contract.dev_seller_fee_basis_points</th>\n",
       "      <th>asset_contract.opensea_seller_fee_basis_points</th>\n",
       "      <th>collection.dev_seller_fee_basis_points</th>\n",
       "      <th>collection.opensea_seller_fee_basis_points</th>\n",
       "      <th>asset_contract.created_date</th>\n",
       "      <th>asset_contract.name</th>\n",
       "      <th>asset_contract.schema_name</th>\n",
       "      <th>asset_contract.asset_contract_type</th>\n",
       "      <th>collection.created_date</th>\n",
       "      <th>collection.slug</th>\n",
       "      <th>collection.safelist_request_status</th>\n",
       "      <th>owner.address</th>\n",
       "    </tr>\n",
       "  </thead>\n",
       "  <tbody>\n",
       "    <tr>\n",
       "      <th>0</th>\n",
       "      <td>66705018.0</td>\n",
       "      <td>0.0</td>\n",
       "      <td>250.0</td>\n",
       "      <td>0.0</td>\n",
       "      <td>250.0</td>\n",
       "      <td>1000.0</td>\n",
       "      <td>250.0</td>\n",
       "      <td>51.0</td>\n",
       "      <td>242.0</td>\n",
       "      <td>1.0</td>\n",
       "      <td>1.0</td>\n",
       "      <td>831.0</td>\n",
       "      <td>1492.0</td>\n",
       "      <td>1.0</td>\n",
       "      <td>0.0</td>\n",
       "    </tr>\n",
       "    <tr>\n",
       "      <th>1</th>\n",
       "      <td>117641833.0</td>\n",
       "      <td>0.0</td>\n",
       "      <td>250.0</td>\n",
       "      <td>0.0</td>\n",
       "      <td>250.0</td>\n",
       "      <td>1000.0</td>\n",
       "      <td>250.0</td>\n",
       "      <td>51.0</td>\n",
       "      <td>242.0</td>\n",
       "      <td>1.0</td>\n",
       "      <td>1.0</td>\n",
       "      <td>1419.0</td>\n",
       "      <td>1468.0</td>\n",
       "      <td>1.0</td>\n",
       "      <td>0.0</td>\n",
       "    </tr>\n",
       "    <tr>\n",
       "      <th>2</th>\n",
       "      <td>111834801.0</td>\n",
       "      <td>0.0</td>\n",
       "      <td>250.0</td>\n",
       "      <td>0.0</td>\n",
       "      <td>250.0</td>\n",
       "      <td>500.0</td>\n",
       "      <td>250.0</td>\n",
       "      <td>51.0</td>\n",
       "      <td>242.0</td>\n",
       "      <td>1.0</td>\n",
       "      <td>1.0</td>\n",
       "      <td>1722.0</td>\n",
       "      <td>1631.0</td>\n",
       "      <td>1.0</td>\n",
       "      <td>0.0</td>\n",
       "    </tr>\n",
       "    <tr>\n",
       "      <th>3</th>\n",
       "      <td>111821802.0</td>\n",
       "      <td>0.0</td>\n",
       "      <td>250.0</td>\n",
       "      <td>0.0</td>\n",
       "      <td>250.0</td>\n",
       "      <td>1000.0</td>\n",
       "      <td>250.0</td>\n",
       "      <td>51.0</td>\n",
       "      <td>242.0</td>\n",
       "      <td>1.0</td>\n",
       "      <td>1.0</td>\n",
       "      <td>1590.0</td>\n",
       "      <td>512.0</td>\n",
       "      <td>1.0</td>\n",
       "      <td>0.0</td>\n",
       "    </tr>\n",
       "    <tr>\n",
       "      <th>4</th>\n",
       "      <td>16633788.0</td>\n",
       "      <td>0.0</td>\n",
       "      <td>250.0</td>\n",
       "      <td>0.0</td>\n",
       "      <td>250.0</td>\n",
       "      <td>0.0</td>\n",
       "      <td>250.0</td>\n",
       "      <td>32.0</td>\n",
       "      <td>280.0</td>\n",
       "      <td>1.0</td>\n",
       "      <td>1.0</td>\n",
       "      <td>31.0</td>\n",
       "      <td>1243.0</td>\n",
       "      <td>0.0</td>\n",
       "      <td>0.0</td>\n",
       "    </tr>\n",
       "  </tbody>\n",
       "</table>\n",
       "</div>"
      ],
      "text/plain": [
       "            id  asset_contract.total_supply  \\\n",
       "0   66705018.0                          0.0   \n",
       "1  117641833.0                          0.0   \n",
       "2  111834801.0                          0.0   \n",
       "3  111821802.0                          0.0   \n",
       "4   16633788.0                          0.0   \n",
       "\n",
       "   asset_contract.seller_fee_basis_points  \\\n",
       "0                                   250.0   \n",
       "1                                   250.0   \n",
       "2                                   250.0   \n",
       "3                                   250.0   \n",
       "4                                   250.0   \n",
       "\n",
       "   asset_contract.dev_seller_fee_basis_points  \\\n",
       "0                                         0.0   \n",
       "1                                         0.0   \n",
       "2                                         0.0   \n",
       "3                                         0.0   \n",
       "4                                         0.0   \n",
       "\n",
       "   asset_contract.opensea_seller_fee_basis_points  \\\n",
       "0                                           250.0   \n",
       "1                                           250.0   \n",
       "2                                           250.0   \n",
       "3                                           250.0   \n",
       "4                                           250.0   \n",
       "\n",
       "   collection.dev_seller_fee_basis_points  \\\n",
       "0                                  1000.0   \n",
       "1                                  1000.0   \n",
       "2                                   500.0   \n",
       "3                                  1000.0   \n",
       "4                                     0.0   \n",
       "\n",
       "   collection.opensea_seller_fee_basis_points  asset_contract.created_date  \\\n",
       "0                                       250.0                         51.0   \n",
       "1                                       250.0                         51.0   \n",
       "2                                       250.0                         51.0   \n",
       "3                                       250.0                         51.0   \n",
       "4                                       250.0                         32.0   \n",
       "\n",
       "   asset_contract.name  asset_contract.schema_name  \\\n",
       "0                242.0                         1.0   \n",
       "1                242.0                         1.0   \n",
       "2                242.0                         1.0   \n",
       "3                242.0                         1.0   \n",
       "4                280.0                         1.0   \n",
       "\n",
       "   asset_contract.asset_contract_type  collection.created_date  \\\n",
       "0                                 1.0                    831.0   \n",
       "1                                 1.0                   1419.0   \n",
       "2                                 1.0                   1722.0   \n",
       "3                                 1.0                   1590.0   \n",
       "4                                 1.0                     31.0   \n",
       "\n",
       "   collection.slug  collection.safelist_request_status  owner.address  \n",
       "0           1492.0                                 1.0            0.0  \n",
       "1           1468.0                                 1.0            0.0  \n",
       "2           1631.0                                 1.0            0.0  \n",
       "3            512.0                                 1.0            0.0  \n",
       "4           1243.0                                 0.0            0.0  "
      ]
     },
     "execution_count": 45,
     "metadata": {},
     "output_type": "execute_result"
    }
   ],
   "source": [
    "test_nft_df.head()"
   ]
  },
  {
   "cell_type": "code",
   "execution_count": null,
   "metadata": {},
   "outputs": [],
   "source": []
  },
  {
   "cell_type": "markdown",
   "metadata": {},
   "source": [
    "### Functions for Models and important features"
   ]
  },
  {
   "cell_type": "code",
   "execution_count": 51,
   "metadata": {},
   "outputs": [],
   "source": [
    "from sklearn.model_selection import cross_val_score"
   ]
  },
  {
   "cell_type": "code",
   "execution_count": 72,
   "metadata": {},
   "outputs": [],
   "source": [
    "# import important features \n",
    "def plot_feature_imp(estimator, X):\n",
    "    '''\n",
    "    Plot feature importance of model\n",
    "    \n",
    "    Parameters\n",
    "    ----------\n",
    "    estimator : estimator object\n",
    "        This is assumed to implement the scikit-learn estimator interface.\n",
    "    X : {array-like, sparse matrix} of shape (n_samples, n_features)\n",
    "        The input samples\n",
    "        \n",
    "        \n",
    "    Output\n",
    "    ------\n",
    "    - Prints plot of features in order of importance\n",
    "    \n",
    "    '''\n",
    "    \n",
    "    feats = estimator.feature_importances_\n",
    "    feature_imps = dict(zip(X.columns, feats))\n",
    "\n",
    "    # creating list of column names\n",
    "    feat_names=list(X.columns)\n",
    "\n",
    "    # Sort feature importances in descending order\n",
    "    indices = np.argsort(feats)[::-1]\n",
    "\n",
    "    # Rearrange feature names so they match the sorted feature importances\n",
    "    names = [feat_names[i] for i in indices]\n",
    "\n",
    "    # Create plot\n",
    "    plt.figure(figsize = [16,6])\n",
    "\n",
    "    # Create plot title\n",
    "    plt.title(\"Feature Importance\")\n",
    "\n",
    "    # Add bars\n",
    "    plt.bar(range(X.shape[1]), feats[indices])\n",
    "\n",
    "    # Add feature names as x-axis labels\n",
    "    plt.xticks(range(X.shape[1]), names, rotation=50, ha = 'right')\n",
    "\n",
    "    # Show plot\n",
    "    plt.show()"
   ]
  },
  {
   "cell_type": "code",
   "execution_count": 69,
   "metadata": {},
   "outputs": [],
   "source": [
    "def evaluate(estimator, X_tr, y_tr):\n",
    "    '''\n",
    "    This is to evalute the best models and outputs are the metrics and matrix\n",
    "    estimator: model,\n",
    "    X_tr: X_train,\n",
    "    X_h_te: X_hold_test,\n",
    "    y_tr: y_training set,\n",
    "    y_h_te: y_hold_test\n",
    "    '''\n",
    "#    predicts the models\n",
    "    tr_preds = estimator.predict(X_tr)\n",
    "\n",
    "    \n",
    "    print(\"Training Scores:\")\n",
    "    print(f\"Train Accuracy: {accuracy_score(y_tr, tr_preds)}\")\n",
    "    print(f\"Train precision: {precision_score(y_tr, tr_preds)}\")\n",
    "    print(f\"Train recall: {recall_score(y_tr, tr_preds)}\")\n",
    "    print(\"*\" * 10)\n"
   ]
  },
  {
   "cell_type": "markdown",
   "metadata": {},
   "source": [
    "### Decision Tree"
   ]
  },
  {
   "cell_type": "code",
   "execution_count": 46,
   "metadata": {},
   "outputs": [],
   "source": [
    "from sklearn.tree import DecisionTreeClassifier\n"
   ]
  },
  {
   "cell_type": "code",
   "execution_count": 47,
   "metadata": {},
   "outputs": [],
   "source": [
    "nft_tree = DecisionTreeClassifier(random_state=42)"
   ]
  },
  {
   "cell_type": "code",
   "execution_count": 48,
   "metadata": {},
   "outputs": [
    {
     "data": {
      "text/plain": [
       "DecisionTreeClassifier(random_state=42)"
      ]
     },
     "execution_count": 48,
     "metadata": {},
     "output_type": "execute_result"
    }
   ],
   "source": [
    "nft_tree.fit(conv_nft_df, y_train)"
   ]
  },
  {
   "cell_type": "code",
   "execution_count": 52,
   "metadata": {
    "scrolled": true
   },
   "outputs": [
    {
     "data": {
      "text/plain": [
       "array([0.94265962, 0.93938161, 0.93653377, 0.93897478, 0.94222945])"
      ]
     },
     "execution_count": 52,
     "metadata": {},
     "output_type": "execute_result"
    }
   ],
   "source": [
    "cross_val_score(nft_tree, conv_nft_df, y_train, cv=5)"
   ]
  },
  {
   "cell_type": "code",
   "execution_count": 49,
   "metadata": {},
   "outputs": [
    {
     "data": {
      "text/plain": [
       "0.9336405529953917"
      ]
     },
     "execution_count": 49,
     "metadata": {},
     "output_type": "execute_result"
    }
   ],
   "source": [
    "nft_tree.score(test_nft_df, y_test)"
   ]
  },
  {
   "cell_type": "code",
   "execution_count": 79,
   "metadata": {},
   "outputs": [
    {
     "data": {
      "image/png": "[encoded data removed]",
      "text/plain": [
       "<Figure size 1152x432 with 1 Axes>"
      ]
     },
     "metadata": {
      "needs_background": "light"
     },
     "output_type": "display_data"
    }
   ],
   "source": [
    "plot_feature_imp(gs_rand_forest.best_estimator_, conv_nft_df)"
   ]
  },
  {
   "cell_type": "markdown",
   "metadata": {},
   "source": [
    "### Random Forest Classifier"
   ]
  },
  {
   "cell_type": "code",
   "execution_count": 53,
   "metadata": {},
   "outputs": [],
   "source": [
    "from sklearn.ensemble import RandomForestClassifier\n",
    "from sklearn.model_selection import GridSearchCV"
   ]
  },
  {
   "cell_type": "code",
   "execution_count": 54,
   "metadata": {},
   "outputs": [
    {
     "data": {
      "text/plain": [
       "RandomForestClassifier(random_state=42)"
      ]
     },
     "execution_count": 54,
     "metadata": {},
     "output_type": "execute_result"
    }
   ],
   "source": [
    "nft_rand = RandomForestClassifier(random_state=42)\n",
    "nft_rand.fit(conv_nft_df, y_train)"
   ]
  },
  {
   "cell_type": "code",
   "execution_count": 55,
   "metadata": {},
   "outputs": [
    {
     "data": {
      "text/plain": [
       "array([0.95038634, 0.95524817, 0.9544345 , 0.94426363, 0.94833198])"
      ]
     },
     "execution_count": 55,
     "metadata": {},
     "output_type": "execute_result"
    }
   ],
   "source": [
    "cross_val_score(nft_rand, conv_nft_df, y_train, cv=5)"
   ]
  },
  {
   "cell_type": "code",
   "execution_count": 56,
   "metadata": {},
   "outputs": [],
   "source": [
    "from sklearn.model_selection import RandomizedSearchCV"
   ]
  },
  {
   "cell_type": "code",
   "execution_count": 58,
   "metadata": {
    "scrolled": false
   },
   "outputs": [
    {
     "data": {
      "text/plain": [
       "RandomizedSearchCV(cv=5, estimator=RandomForestClassifier(random_state=42),\n",
       "                   param_distributions={'max_depth': [20, 40, 50, 60],\n",
       "                                        'n_estimators': [100, 200, 400]})"
      ]
     },
     "execution_count": 58,
     "metadata": {},
     "output_type": "execute_result"
    }
   ],
   "source": [
    "params_nft ={'n_estimators': [100,200,400],'max_depth': [20,40,50,60]}\n",
    "\n",
    "gs_rand_forest=RandomizedSearchCV(estimator= nft_rand,\n",
    "               param_distributions= params_nft,\n",
    "               cv=5)\n",
    "\n",
    "gs_rand_forest.fit(conv_nft_df, y_train)"
   ]
  },
  {
   "cell_type": "code",
   "execution_count": 59,
   "metadata": {
    "scrolled": false
   },
   "outputs": [
    {
     "data": {
      "text/plain": [
       "array([0.95038634, 0.95524817, 0.9544345 , 0.94426363, 0.94833198])"
      ]
     },
     "execution_count": 59,
     "metadata": {},
     "output_type": "execute_result"
    }
   ],
   "source": [
    "cross_val_score(gs_rand_forest.best_estimator_, conv_nft_df, y_train, cv=5)"
   ]
  },
  {
   "cell_type": "code",
   "execution_count": 60,
   "metadata": {},
   "outputs": [
    {
     "data": {
      "text/plain": [
       "0.9552995391705069"
      ]
     },
     "execution_count": 60,
     "metadata": {},
     "output_type": "execute_result"
    }
   ],
   "source": [
    "gs_rand_forest.best_estimator_.score(test_nft_df, y_test)"
   ]
  },
  {
   "cell_type": "code",
   "execution_count": 78,
   "metadata": {},
   "outputs": [
    {
     "name": "stdout",
     "output_type": "stream",
     "text": [
      "Training Scores:\n",
      "Train Accuracy: 0.9999186396550321\n",
      "Train precision: 1.0\n",
      "Train recall: 0.9998781379478431\n",
      "**********\n"
     ]
    }
   ],
   "source": [
    "evaluate(gs_rand_forest.best_estimator_, conv_nft_df, y_train)"
   ]
  },
  {
   "cell_type": "code",
   "execution_count": 74,
   "metadata": {
    "scrolled": false
   },
   "outputs": [
    {
     "data": {
      "image/png": "[encoded data removed]",
      "text/plain": [
       "<Figure size 1152x432 with 1 Axes>"
      ]
     },
     "metadata": {
      "needs_background": "light"
     },
     "output_type": "display_data"
    }
   ],
   "source": [
    "plot_feature_imp(gs_rand_forest.best_estimator_, conv_nft_df)"
   ]
  },
  {
   "cell_type": "code",
   "execution_count": 75,
   "metadata": {},
   "outputs": [],
   "source": [
    "from sklearn.model_selection import GridSearchCV"
   ]
  },
  {
   "cell_type": "code",
   "execution_count": 76,
   "metadata": {
    "scrolled": false
   },
   "outputs": [
    {
     "name": "stderr",
     "output_type": "stream",
     "text": [
      "/Users/mac/opt/anaconda3/envs/project_nft/lib/python3.8/site-packages/sklearn/linear_model/_sag.py:352: ConvergenceWarning: The max_iter was reached which means the coef_ did not converge\n",
      "  warnings.warn(\n",
      "/Users/mac/opt/anaconda3/envs/project_nft/lib/python3.8/site-packages/sklearn/linear_model/_sag.py:352: ConvergenceWarning: The max_iter was reached which means the coef_ did not converge\n",
      "  warnings.warn(\n",
      "/Users/mac/opt/anaconda3/envs/project_nft/lib/python3.8/site-packages/sklearn/linear_model/_sag.py:352: ConvergenceWarning: The max_iter was reached which means the coef_ did not converge\n",
      "  warnings.warn(\n",
      "/Users/mac/opt/anaconda3/envs/project_nft/lib/python3.8/site-packages/sklearn/linear_model/_sag.py:352: ConvergenceWarning: The max_iter was reached which means the coef_ did not converge\n",
      "  warnings.warn(\n",
      "/Users/mac/opt/anaconda3/envs/project_nft/lib/python3.8/site-packages/sklearn/linear_model/_sag.py:352: ConvergenceWarning: The max_iter was reached which means the coef_ did not converge\n",
      "  warnings.warn(\n",
      "/Users/mac/opt/anaconda3/envs/project_nft/lib/python3.8/site-packages/sklearn/linear_model/_sag.py:352: ConvergenceWarning: The max_iter was reached which means the coef_ did not converge\n",
      "  warnings.warn(\n",
      "/Users/mac/opt/anaconda3/envs/project_nft/lib/python3.8/site-packages/sklearn/linear_model/_sag.py:352: ConvergenceWarning: The max_iter was reached which means the coef_ did not converge\n",
      "  warnings.warn(\n",
      "/Users/mac/opt/anaconda3/envs/project_nft/lib/python3.8/site-packages/sklearn/linear_model/_sag.py:352: ConvergenceWarning: The max_iter was reached which means the coef_ did not converge\n",
      "  warnings.warn(\n",
      "/Users/mac/opt/anaconda3/envs/project_nft/lib/python3.8/site-packages/sklearn/linear_model/_sag.py:352: ConvergenceWarning: The max_iter was reached which means the coef_ did not converge\n",
      "  warnings.warn(\n",
      "/Users/mac/opt/anaconda3/envs/project_nft/lib/python3.8/site-packages/sklearn/linear_model/_sag.py:352: ConvergenceWarning: The max_iter was reached which means the coef_ did not converge\n",
      "  warnings.warn(\n",
      "/Users/mac/opt/anaconda3/envs/project_nft/lib/python3.8/site-packages/sklearn/linear_model/_sag.py:352: ConvergenceWarning: The max_iter was reached which means the coef_ did not converge\n",
      "  warnings.warn(\n",
      "/Users/mac/opt/anaconda3/envs/project_nft/lib/python3.8/site-packages/sklearn/linear_model/_sag.py:352: ConvergenceWarning: The max_iter was reached which means the coef_ did not converge\n",
      "  warnings.warn(\n",
      "/Users/mac/opt/anaconda3/envs/project_nft/lib/python3.8/site-packages/sklearn/linear_model/_sag.py:352: ConvergenceWarning: The max_iter was reached which means the coef_ did not converge\n",
      "  warnings.warn(\n",
      "/Users/mac/opt/anaconda3/envs/project_nft/lib/python3.8/site-packages/sklearn/linear_model/_sag.py:352: ConvergenceWarning: The max_iter was reached which means the coef_ did not converge\n",
      "  warnings.warn(\n",
      "/Users/mac/opt/anaconda3/envs/project_nft/lib/python3.8/site-packages/sklearn/linear_model/_sag.py:352: ConvergenceWarning: The max_iter was reached which means the coef_ did not converge\n",
      "  warnings.warn(\n",
      "/Users/mac/opt/anaconda3/envs/project_nft/lib/python3.8/site-packages/sklearn/linear_model/_sag.py:352: ConvergenceWarning: The max_iter was reached which means the coef_ did not converge\n",
      "  warnings.warn(\n",
      "/Users/mac/opt/anaconda3/envs/project_nft/lib/python3.8/site-packages/sklearn/linear_model/_sag.py:352: ConvergenceWarning: The max_iter was reached which means the coef_ did not converge\n",
      "  warnings.warn(\n",
      "/Users/mac/opt/anaconda3/envs/project_nft/lib/python3.8/site-packages/sklearn/linear_model/_sag.py:352: ConvergenceWarning: The max_iter was reached which means the coef_ did not converge\n",
      "  warnings.warn(\n",
      "/Users/mac/opt/anaconda3/envs/project_nft/lib/python3.8/site-packages/sklearn/linear_model/_sag.py:352: ConvergenceWarning: The max_iter was reached which means the coef_ did not converge\n",
      "  warnings.warn(\n",
      "/Users/mac/opt/anaconda3/envs/project_nft/lib/python3.8/site-packages/sklearn/linear_model/_sag.py:352: ConvergenceWarning: The max_iter was reached which means the coef_ did not converge\n",
      "  warnings.warn(\n",
      "/Users/mac/opt/anaconda3/envs/project_nft/lib/python3.8/site-packages/sklearn/linear_model/_sag.py:352: ConvergenceWarning: The max_iter was reached which means the coef_ did not converge\n",
      "  warnings.warn(\n",
      "/Users/mac/opt/anaconda3/envs/project_nft/lib/python3.8/site-packages/sklearn/linear_model/_sag.py:352: ConvergenceWarning: The max_iter was reached which means the coef_ did not converge\n",
      "  warnings.warn(\n",
      "/Users/mac/opt/anaconda3/envs/project_nft/lib/python3.8/site-packages/sklearn/linear_model/_sag.py:352: ConvergenceWarning: The max_iter was reached which means the coef_ did not converge\n",
      "  warnings.warn(\n",
      "/Users/mac/opt/anaconda3/envs/project_nft/lib/python3.8/site-packages/sklearn/linear_model/_sag.py:352: ConvergenceWarning: The max_iter was reached which means the coef_ did not converge\n",
      "  warnings.warn(\n",
      "/Users/mac/opt/anaconda3/envs/project_nft/lib/python3.8/site-packages/sklearn/linear_model/_sag.py:352: ConvergenceWarning: The max_iter was reached which means the coef_ did not converge\n",
      "  warnings.warn(\n",
      "/Users/mac/opt/anaconda3/envs/project_nft/lib/python3.8/site-packages/sklearn/linear_model/_sag.py:352: ConvergenceWarning: The max_iter was reached which means the coef_ did not converge\n",
      "  warnings.warn(\n",
      "/Users/mac/opt/anaconda3/envs/project_nft/lib/python3.8/site-packages/sklearn/linear_model/_sag.py:352: ConvergenceWarning: The max_iter was reached which means the coef_ did not converge\n",
      "  warnings.warn(\n",
      "/Users/mac/opt/anaconda3/envs/project_nft/lib/python3.8/site-packages/sklearn/linear_model/_sag.py:352: ConvergenceWarning: The max_iter was reached which means the coef_ did not converge\n",
      "  warnings.warn(\n",
      "/Users/mac/opt/anaconda3/envs/project_nft/lib/python3.8/site-packages/sklearn/linear_model/_sag.py:352: ConvergenceWarning: The max_iter was reached which means the coef_ did not converge\n",
      "  warnings.warn(\n",
      "/Users/mac/opt/anaconda3/envs/project_nft/lib/python3.8/site-packages/sklearn/linear_model/_sag.py:352: ConvergenceWarning: The max_iter was reached which means the coef_ did not converge\n",
      "  warnings.warn(\n",
      "/Users/mac/opt/anaconda3/envs/project_nft/lib/python3.8/site-packages/sklearn/linear_model/_sag.py:352: ConvergenceWarning: The max_iter was reached which means the coef_ did not converge\n",
      "  warnings.warn(\n",
      "/Users/mac/opt/anaconda3/envs/project_nft/lib/python3.8/site-packages/sklearn/linear_model/_sag.py:352: ConvergenceWarning: The max_iter was reached which means the coef_ did not converge\n",
      "  warnings.warn(\n",
      "/Users/mac/opt/anaconda3/envs/project_nft/lib/python3.8/site-packages/sklearn/linear_model/_sag.py:352: ConvergenceWarning: The max_iter was reached which means the coef_ did not converge\n",
      "  warnings.warn(\n",
      "/Users/mac/opt/anaconda3/envs/project_nft/lib/python3.8/site-packages/sklearn/linear_model/_sag.py:352: ConvergenceWarning: The max_iter was reached which means the coef_ did not converge\n",
      "  warnings.warn(\n",
      "/Users/mac/opt/anaconda3/envs/project_nft/lib/python3.8/site-packages/sklearn/linear_model/_sag.py:352: ConvergenceWarning: The max_iter was reached which means the coef_ did not converge\n",
      "  warnings.warn(\n",
      "/Users/mac/opt/anaconda3/envs/project_nft/lib/python3.8/site-packages/sklearn/linear_model/_sag.py:352: ConvergenceWarning: The max_iter was reached which means the coef_ did not converge\n",
      "  warnings.warn(\n",
      "/Users/mac/opt/anaconda3/envs/project_nft/lib/python3.8/site-packages/sklearn/linear_model/_sag.py:352: ConvergenceWarning: The max_iter was reached which means the coef_ did not converge\n",
      "  warnings.warn(\n",
      "/Users/mac/opt/anaconda3/envs/project_nft/lib/python3.8/site-packages/sklearn/linear_model/_sag.py:352: ConvergenceWarning: The max_iter was reached which means the coef_ did not converge\n",
      "  warnings.warn(\n",
      "/Users/mac/opt/anaconda3/envs/project_nft/lib/python3.8/site-packages/sklearn/linear_model/_sag.py:352: ConvergenceWarning: The max_iter was reached which means the coef_ did not converge\n",
      "  warnings.warn(\n",
      "/Users/mac/opt/anaconda3/envs/project_nft/lib/python3.8/site-packages/sklearn/linear_model/_sag.py:352: ConvergenceWarning: The max_iter was reached which means the coef_ did not converge\n",
      "  warnings.warn(\n"
     ]
    },
    {
     "name": "stderr",
     "output_type": "stream",
     "text": [
      "/Users/mac/opt/anaconda3/envs/project_nft/lib/python3.8/site-packages/sklearn/linear_model/_sag.py:352: ConvergenceWarning: The max_iter was reached which means the coef_ did not converge\n",
      "  warnings.warn(\n",
      "/Users/mac/opt/anaconda3/envs/project_nft/lib/python3.8/site-packages/sklearn/linear_model/_sag.py:352: ConvergenceWarning: The max_iter was reached which means the coef_ did not converge\n",
      "  warnings.warn(\n",
      "/Users/mac/opt/anaconda3/envs/project_nft/lib/python3.8/site-packages/sklearn/linear_model/_sag.py:352: ConvergenceWarning: The max_iter was reached which means the coef_ did not converge\n",
      "  warnings.warn(\n",
      "/Users/mac/opt/anaconda3/envs/project_nft/lib/python3.8/site-packages/sklearn/linear_model/_sag.py:352: ConvergenceWarning: The max_iter was reached which means the coef_ did not converge\n",
      "  warnings.warn(\n",
      "/Users/mac/opt/anaconda3/envs/project_nft/lib/python3.8/site-packages/sklearn/linear_model/_sag.py:352: ConvergenceWarning: The max_iter was reached which means the coef_ did not converge\n",
      "  warnings.warn(\n",
      "/Users/mac/opt/anaconda3/envs/project_nft/lib/python3.8/site-packages/sklearn/linear_model/_sag.py:352: ConvergenceWarning: The max_iter was reached which means the coef_ did not converge\n",
      "  warnings.warn(\n",
      "/Users/mac/opt/anaconda3/envs/project_nft/lib/python3.8/site-packages/sklearn/linear_model/_sag.py:352: ConvergenceWarning: The max_iter was reached which means the coef_ did not converge\n",
      "  warnings.warn(\n",
      "/Users/mac/opt/anaconda3/envs/project_nft/lib/python3.8/site-packages/sklearn/linear_model/_sag.py:352: ConvergenceWarning: The max_iter was reached which means the coef_ did not converge\n",
      "  warnings.warn(\n",
      "/Users/mac/opt/anaconda3/envs/project_nft/lib/python3.8/site-packages/sklearn/linear_model/_sag.py:352: ConvergenceWarning: The max_iter was reached which means the coef_ did not converge\n",
      "  warnings.warn(\n",
      "/Users/mac/opt/anaconda3/envs/project_nft/lib/python3.8/site-packages/sklearn/linear_model/_sag.py:352: ConvergenceWarning: The max_iter was reached which means the coef_ did not converge\n",
      "  warnings.warn(\n"
     ]
    },
    {
     "data": {
      "text/plain": [
       "GridSearchCV(estimator=LogisticRegression(),\n",
       "             param_grid={'C': [100, 10, 1.0, 0.1, 0.01],\n",
       "                         'max_iter': [100, 1000], 'solver': ['sag', 'lbfgs']})"
      ]
     },
     "execution_count": 76,
     "metadata": {},
     "output_type": "execute_result"
    }
   ],
   "source": [
    "logit_nft = LogisticRegression()\n",
    "params_logit = {\n",
    "    'C': [100, 10, 1.0, 0.1, 0.01],\n",
    "    'max_iter': [100, 1000],\n",
    "    'solver': ['sag', 'lbfgs']\n",
    "}\n",
    "cv = GridSearchCV(logit_nft, param_grid=params_logit)\n",
    "\n",
    "cv.fit(conv_nft_df, y_train)"
   ]
  },
  {
   "cell_type": "code",
   "execution_count": 77,
   "metadata": {
    "scrolled": true
   },
   "outputs": [
    {
     "data": {
      "text/plain": [
       "array([0.33224888, 0.33238405, 0.33238405, 0.33238405, 0.77990236])"
      ]
     },
     "execution_count": 77,
     "metadata": {},
     "output_type": "execute_result"
    }
   ],
   "source": [
    "cross_val_score(cv.best_estimator_, conv_nft_df, y_train, cv=5)"
   ]
  },
  {
   "cell_type": "markdown",
   "metadata": {},
   "source": []
  },
  {
   "cell_type": "markdown",
   "metadata": {},
   "source": [
    "### Save model"
   ]
  },
  {
   "cell_type": "code",
   "execution_count": 85,
   "metadata": {},
   "outputs": [
    {
     "ename": "FileNotFoundError",
     "evalue": "[Errno 2] No such file or directory: 'models/real_model.sav'",
     "output_type": "error",
     "traceback": [
      "\u001b[0;31m---------------------------------------------------------------------------\u001b[0m",
      "\u001b[0;31mFileNotFoundError\u001b[0m                         Traceback (most recent call last)",
      "\u001b[0;32m<ipython-input-85-bee0872047c0>\u001b[0m in \u001b[0;36m<module>\u001b[0;34m\u001b[0m\n\u001b[1;32m      3\u001b[0m \u001b[0;31m# save the model to disk\u001b[0m\u001b[0;34m\u001b[0m\u001b[0;34m\u001b[0m\u001b[0;34m\u001b[0m\u001b[0m\n\u001b[1;32m      4\u001b[0m \u001b[0mmodel_name\u001b[0m \u001b[0;34m=\u001b[0m \u001b[0;34m'models/real_model.sav'\u001b[0m\u001b[0;34m\u001b[0m\u001b[0;34m\u001b[0m\u001b[0m\n\u001b[0;32m----> 5\u001b[0;31m \u001b[0mpickle\u001b[0m\u001b[0;34m.\u001b[0m\u001b[0mdump\u001b[0m\u001b[0;34m(\u001b[0m\u001b[0mgs_rand_forest\u001b[0m\u001b[0;34m.\u001b[0m\u001b[0mbest_estimator_\u001b[0m\u001b[0;34m,\u001b[0m \u001b[0mopen\u001b[0m\u001b[0;34m(\u001b[0m\u001b[0mmodel_name\u001b[0m\u001b[0;34m,\u001b[0m \u001b[0;34m'w'\u001b[0m\u001b[0;34m)\u001b[0m\u001b[0;34m)\u001b[0m\u001b[0;34m\u001b[0m\u001b[0;34m\u001b[0m\u001b[0m\n\u001b[0m",
      "\u001b[0;31mFileNotFoundError\u001b[0m: [Errno 2] No such file or directory: 'models/real_model.sav'"
     ]
    }
   ],
   "source": [
    "import pickle\n",
    "\n",
    "# save the model to disk\n",
    "model_name = 'models/real_model.sav'\n",
    "pickle.dump(gs_rand_forest.best_estimator_, open(model_name, 'w'))"
   ]
  },
  {
   "cell_type": "code",
   "execution_count": null,
   "metadata": {},
   "outputs": [],
   "source": []
  }
 ],
 "metadata": {
  "kernelspec": {
   "display_name": "“project_nft”",
   "language": "python",
   "name": "project_nft"
  },
  "language_info": {
   "codemirror_mode": {
    "name": "ipython",
    "version": 3
   },
   "file_extension": ".py",
   "mimetype": "text/x-python",
   "name": "python",
   "nbconvert_exporter": "python",
   "pygments_lexer": "ipython3",
   "version": "3.8.5"
  }
 },
 "nbformat": 4,
 "nbformat_minor": 4
}
